{
 "cells": [
  {
   "cell_type": "markdown",
   "metadata": {},
   "source": [
    "# Importando bibliotecas"
   ]
  },
  {
   "cell_type": "code",
   "execution_count": 65,
   "metadata": {},
   "outputs": [],
   "source": [
    "#biblioteca de analise\n",
    "import pandas as pd\n",
    "import numpy as np\n",
    "from summarytools import dfSummary\n",
    "import sidetable as stb\n",
    "\n",
    "#bibliotecas de vizualizacao\n",
    "import seaborn as sns\n",
    "import matplotlib.pyplot as plt\n",
    "from sklearn import set_config\n",
    "sns.set_theme(style=\"whitegrid\")\n",
    "\n",
    "#bibiotecas para machine learing\n",
    "from sklearn.metrics import r2_score, mean_absolute_error, mean_squared_error\n",
    "from sklearn.ensemble import RandomForestRegressor, AdaBoostRegressor, GradientBoostingRegressor, VotingRegressor\n",
    "from xgboost import XGBRegressor\n",
    "from sklearn.tree import DecisionTreeRegressor\n",
    "from sklearn.preprocessing import MinMaxScaler, RobustScaler, LabelEncoder\n",
    "from sklearn.model_selection import train_test_split as tts, GridSearchCV\n",
    "\n",
    "#biblioteca para aviso de erros\n",
    "import warnings\n",
    "\n",
    "#importando biblioteca para deploy\n",
    "import joblib\n",
    "\n",
    "\n",
    "#bibliotecas para dicionario de hiperparamentros\n",
    "from tables.file import parameters\n",
    "\n",
    "warnings.filterwarnings('ignore',category=FutureWarning)\n",
    "set_config(display=\"diagram\")\n",
    "sns.set_theme(style=\"whitegrid\")\n",
    "\n",
    "\n"
   ]
  },
  {
   "cell_type": "markdown",
   "metadata": {},
   "source": [
    "Funcao para prever o r2, MAE, MSE, MRSE do modelo\n"
   ]
  },
  {
   "cell_type": "code",
   "execution_count": 66,
   "metadata": {},
   "outputs": [],
   "source": [
    "def evaluation(model,x_test, y_test):\n",
    "    pred=model.predict(x_test)\n",
    "    print(\"R2:\" \n",
    "          ,r2_score(y_test, pred))\n",
    "    print(\"MAE:\"\n",
    "          , mean_absolute_error(y_test, pred))\n",
    "    print(\"MSE:\", \n",
    "          mean_squared_error(y_test, pred))\n",
    "    print(\"RMSE:\", \n",
    "          np.sqrt(mean_squared_error(y_test, pred)))\n"
   ]
  },
  {
   "cell_type": "code",
   "execution_count": 67,
   "metadata": {},
   "outputs": [
    {
     "data": {
      "text/html": [
       "<div>\n",
       "<style scoped>\n",
       "    .dataframe tbody tr th:only-of-type {\n",
       "        vertical-align: middle;\n",
       "    }\n",
       "\n",
       "    .dataframe tbody tr th {\n",
       "        vertical-align: top;\n",
       "    }\n",
       "\n",
       "    .dataframe thead th {\n",
       "        text-align: right;\n",
       "    }\n",
       "</style>\n",
       "<table border=\"1\" class=\"dataframe\">\n",
       "  <thead>\n",
       "    <tr style=\"text-align: right;\">\n",
       "      <th></th>\n",
       "      <th>idade</th>\n",
       "      <th>sexo</th>\n",
       "      <th>imc</th>\n",
       "      <th>quantidade_filhos</th>\n",
       "      <th>fumante</th>\n",
       "      <th>regiao</th>\n",
       "      <th>custos_seguro</th>\n",
       "    </tr>\n",
       "  </thead>\n",
       "  <tbody>\n",
       "    <tr>\n",
       "      <th>0</th>\n",
       "      <td>19</td>\n",
       "      <td>female</td>\n",
       "      <td>27.900</td>\n",
       "      <td>0</td>\n",
       "      <td>yes</td>\n",
       "      <td>southwest</td>\n",
       "      <td>16884.92400</td>\n",
       "    </tr>\n",
       "    <tr>\n",
       "      <th>1</th>\n",
       "      <td>18</td>\n",
       "      <td>male</td>\n",
       "      <td>33.770</td>\n",
       "      <td>1</td>\n",
       "      <td>no</td>\n",
       "      <td>southeast</td>\n",
       "      <td>1725.55230</td>\n",
       "    </tr>\n",
       "    <tr>\n",
       "      <th>2</th>\n",
       "      <td>28</td>\n",
       "      <td>male</td>\n",
       "      <td>33.560</td>\n",
       "      <td>3</td>\n",
       "      <td>no</td>\n",
       "      <td>southeast</td>\n",
       "      <td>4449.46200</td>\n",
       "    </tr>\n",
       "    <tr>\n",
       "      <th>3</th>\n",
       "      <td>33</td>\n",
       "      <td>male</td>\n",
       "      <td>22.705</td>\n",
       "      <td>0</td>\n",
       "      <td>no</td>\n",
       "      <td>northwest</td>\n",
       "      <td>21984.47061</td>\n",
       "    </tr>\n",
       "    <tr>\n",
       "      <th>4</th>\n",
       "      <td>32</td>\n",
       "      <td>male</td>\n",
       "      <td>28.880</td>\n",
       "      <td>0</td>\n",
       "      <td>no</td>\n",
       "      <td>northwest</td>\n",
       "      <td>3866.85520</td>\n",
       "    </tr>\n",
       "  </tbody>\n",
       "</table>\n",
       "</div>"
      ],
      "text/plain": [
       "   idade    sexo     imc  quantidade_filhos fumante     regiao  custos_seguro\n",
       "0     19  female  27.900                  0     yes  southwest    16884.92400\n",
       "1     18    male  33.770                  1      no  southeast     1725.55230\n",
       "2     28    male  33.560                  3      no  southeast     4449.46200\n",
       "3     33    male  22.705                  0      no  northwest    21984.47061\n",
       "4     32    male  28.880                  0      no  northwest     3866.85520"
      ]
     },
     "execution_count": 67,
     "metadata": {},
     "output_type": "execute_result"
    }
   ],
   "source": [
    "#importando dataset\n",
    "df=pd.read_excel(\"/Users/chenyenpin/Downloads/insurance.xlsx\")\n",
    "df.head()"
   ]
  },
  {
   "cell_type": "markdown",
   "metadata": {},
   "source": [
    "# Analise exploratoria"
   ]
  },
  {
   "cell_type": "code",
   "execution_count": 68,
   "metadata": {},
   "outputs": [
    {
     "data": {
      "text/plain": [
       "(1341, 7)"
      ]
     },
     "execution_count": 68,
     "metadata": {},
     "output_type": "execute_result"
    }
   ],
   "source": [
    "df.shape"
   ]
  },
  {
   "cell_type": "code",
   "execution_count": 69,
   "metadata": {},
   "outputs": [
    {
     "data": {
      "text/plain": [
       "idade                0\n",
       "sexo                 3\n",
       "imc                  0\n",
       "quantidade_filhos    0\n",
       "fumante              0\n",
       "regiao               0\n",
       "custos_seguro        0\n",
       "dtype: int64"
      ]
     },
     "execution_count": 69,
     "metadata": {},
     "output_type": "execute_result"
    }
   ],
   "source": [
    "#somando quantidade de valores NA\n",
    "df.isna().sum()"
   ]
  },
  {
   "cell_type": "code",
   "execution_count": 70,
   "metadata": {},
   "outputs": [
    {
     "data": {
      "text/html": [
       "<div>\n",
       "<style scoped>\n",
       "    .dataframe tbody tr th:only-of-type {\n",
       "        vertical-align: middle;\n",
       "    }\n",
       "\n",
       "    .dataframe tbody tr th {\n",
       "        vertical-align: top;\n",
       "    }\n",
       "\n",
       "    .dataframe thead th {\n",
       "        text-align: right;\n",
       "    }\n",
       "</style>\n",
       "<table border=\"1\" class=\"dataframe\">\n",
       "  <thead>\n",
       "    <tr style=\"text-align: right;\">\n",
       "      <th></th>\n",
       "      <th>idade</th>\n",
       "      <th>sexo</th>\n",
       "      <th>imc</th>\n",
       "      <th>quantidade_filhos</th>\n",
       "      <th>fumante</th>\n",
       "      <th>regiao</th>\n",
       "      <th>custos_seguro</th>\n",
       "    </tr>\n",
       "  </thead>\n",
       "  <tbody>\n",
       "    <tr>\n",
       "      <th>1259</th>\n",
       "      <td>30</td>\n",
       "      <td>NaN</td>\n",
       "      <td>40.09</td>\n",
       "      <td>0</td>\n",
       "      <td>no</td>\n",
       "      <td>northeast</td>\n",
       "      <td>0.0</td>\n",
       "    </tr>\n",
       "    <tr>\n",
       "      <th>1285</th>\n",
       "      <td>30</td>\n",
       "      <td>NaN</td>\n",
       "      <td>40.09</td>\n",
       "      <td>0</td>\n",
       "      <td>no</td>\n",
       "      <td>northeast</td>\n",
       "      <td>0.0</td>\n",
       "    </tr>\n",
       "    <tr>\n",
       "      <th>1331</th>\n",
       "      <td>30</td>\n",
       "      <td>NaN</td>\n",
       "      <td>40.09</td>\n",
       "      <td>0</td>\n",
       "      <td>no</td>\n",
       "      <td>northeast</td>\n",
       "      <td>0.0</td>\n",
       "    </tr>\n",
       "  </tbody>\n",
       "</table>\n",
       "</div>"
      ],
      "text/plain": [
       "      idade sexo    imc  quantidade_filhos fumante     regiao  custos_seguro\n",
       "1259     30  NaN  40.09                  0      no  northeast            0.0\n",
       "1285     30  NaN  40.09                  0      no  northeast            0.0\n",
       "1331     30  NaN  40.09                  0      no  northeast            0.0"
      ]
     },
     "execution_count": 70,
     "metadata": {},
     "output_type": "execute_result"
    }
   ],
   "source": [
    "#entendendo quais os valores NaN da coluna Sexo\n",
    "df[df[\"sexo\"].isna()]"
   ]
  },
  {
   "cell_type": "code",
   "execution_count": 71,
   "metadata": {},
   "outputs": [
    {
     "data": {
      "text/html": [
       "<div>\n",
       "<style scoped>\n",
       "    .dataframe tbody tr th:only-of-type {\n",
       "        vertical-align: middle;\n",
       "    }\n",
       "\n",
       "    .dataframe tbody tr th {\n",
       "        vertical-align: top;\n",
       "    }\n",
       "\n",
       "    .dataframe thead th {\n",
       "        text-align: right;\n",
       "    }\n",
       "</style>\n",
       "<table border=\"1\" class=\"dataframe\">\n",
       "  <thead>\n",
       "    <tr style=\"text-align: right;\">\n",
       "      <th></th>\n",
       "      <th>missing</th>\n",
       "      <th>total</th>\n",
       "      <th>percent</th>\n",
       "    </tr>\n",
       "  </thead>\n",
       "  <tbody>\n",
       "    <tr>\n",
       "      <th>sexo</th>\n",
       "      <td>3</td>\n",
       "      <td>1341</td>\n",
       "      <td>0.223714</td>\n",
       "    </tr>\n",
       "    <tr>\n",
       "      <th>idade</th>\n",
       "      <td>0</td>\n",
       "      <td>1341</td>\n",
       "      <td>0.000000</td>\n",
       "    </tr>\n",
       "    <tr>\n",
       "      <th>imc</th>\n",
       "      <td>0</td>\n",
       "      <td>1341</td>\n",
       "      <td>0.000000</td>\n",
       "    </tr>\n",
       "    <tr>\n",
       "      <th>quantidade_filhos</th>\n",
       "      <td>0</td>\n",
       "      <td>1341</td>\n",
       "      <td>0.000000</td>\n",
       "    </tr>\n",
       "    <tr>\n",
       "      <th>fumante</th>\n",
       "      <td>0</td>\n",
       "      <td>1341</td>\n",
       "      <td>0.000000</td>\n",
       "    </tr>\n",
       "    <tr>\n",
       "      <th>regiao</th>\n",
       "      <td>0</td>\n",
       "      <td>1341</td>\n",
       "      <td>0.000000</td>\n",
       "    </tr>\n",
       "    <tr>\n",
       "      <th>custos_seguro</th>\n",
       "      <td>0</td>\n",
       "      <td>1341</td>\n",
       "      <td>0.000000</td>\n",
       "    </tr>\n",
       "  </tbody>\n",
       "</table>\n",
       "</div>"
      ],
      "text/plain": [
       "                   missing  total   percent\n",
       "sexo                     3   1341  0.223714\n",
       "idade                    0   1341  0.000000\n",
       "imc                      0   1341  0.000000\n",
       "quantidade_filhos        0   1341  0.000000\n",
       "fumante                  0   1341  0.000000\n",
       "regiao                   0   1341  0.000000\n",
       "custos_seguro            0   1341  0.000000"
      ]
     },
     "execution_count": 71,
     "metadata": {},
     "output_type": "execute_result"
    }
   ],
   "source": [
    "#percentual de Na que temos em cada coluna\n",
    "df.stb.missing()"
   ]
  },
  {
   "cell_type": "code",
   "execution_count": 72,
   "metadata": {},
   "outputs": [
    {
     "data": {
      "text/html": [
       "<style type=\"text/css\">\n",
       "#T_a6e5f thead>tr>th {\n",
       "  text-align: left;\n",
       "}\n",
       "#T_a6e5f_row0_col0, #T_a6e5f_row1_col0, #T_a6e5f_row2_col0, #T_a6e5f_row3_col0, #T_a6e5f_row4_col0, #T_a6e5f_row5_col0, #T_a6e5f_row6_col0 {\n",
       "  text-align: left;\n",
       "  font-size: 12px;\n",
       "  vertical-align: middle;\n",
       "  width: 5%;\n",
       "  max-width: 50px;\n",
       "  min-width: 20px;\n",
       "}\n",
       "#T_a6e5f_row0_col1, #T_a6e5f_row1_col1, #T_a6e5f_row2_col1, #T_a6e5f_row3_col1, #T_a6e5f_row4_col1, #T_a6e5f_row5_col1, #T_a6e5f_row6_col1 {\n",
       "  text-align: left;\n",
       "  font-size: 12px;\n",
       "  vertical-align: middle;\n",
       "  width: 15%;\n",
       "  max-width: 200px;\n",
       "  min-width: 100px;\n",
       "  word-break: break-word;\n",
       "}\n",
       "#T_a6e5f_row0_col2, #T_a6e5f_row1_col2, #T_a6e5f_row2_col2, #T_a6e5f_row3_col2, #T_a6e5f_row4_col2, #T_a6e5f_row5_col2, #T_a6e5f_row6_col2 {\n",
       "  text-align: left;\n",
       "  font-size: 12px;\n",
       "  vertical-align: middle;\n",
       "  width: 30%;\n",
       "  min-width: 100px;\n",
       "}\n",
       "#T_a6e5f_row0_col3, #T_a6e5f_row1_col3, #T_a6e5f_row2_col3, #T_a6e5f_row3_col3, #T_a6e5f_row4_col3, #T_a6e5f_row5_col3, #T_a6e5f_row6_col3 {\n",
       "  text-align: left;\n",
       "  font-size: 12px;\n",
       "  vertical-align: middle;\n",
       "  width: 25%;\n",
       "  min-width: 100px;\n",
       "}\n",
       "#T_a6e5f_row0_col4, #T_a6e5f_row1_col4, #T_a6e5f_row2_col4, #T_a6e5f_row3_col4, #T_a6e5f_row4_col4, #T_a6e5f_row5_col4, #T_a6e5f_row6_col4 {\n",
       "  text-align: left;\n",
       "  font-size: 12px;\n",
       "  vertical-align: middle;\n",
       "  width: 20%;\n",
       "  min-width: 150px;\n",
       "}\n",
       "#T_a6e5f_row0_col5, #T_a6e5f_row1_col5, #T_a6e5f_row2_col5, #T_a6e5f_row3_col5, #T_a6e5f_row4_col5, #T_a6e5f_row5_col5, #T_a6e5f_row6_col5 {\n",
       "  text-align: left;\n",
       "  font-size: 12px;\n",
       "  vertical-align: middle;\n",
       "  width: 10%;\n",
       "}\n",
       "</style>\n",
       "<table id=\"T_a6e5f\">\n",
       "  <caption><strong>Data Frame Summary</strong><br>df<br>Dimensions: 1,341 x 7<br>Duplicates: 3</caption>\n",
       "  <thead>\n",
       "    <tr>\n",
       "      <th id=\"T_a6e5f_level0_col0\" class=\"col_heading level0 col0\" >No</th>\n",
       "      <th id=\"T_a6e5f_level0_col1\" class=\"col_heading level0 col1\" >Variable</th>\n",
       "      <th id=\"T_a6e5f_level0_col2\" class=\"col_heading level0 col2\" >Stats / Values</th>\n",
       "      <th id=\"T_a6e5f_level0_col3\" class=\"col_heading level0 col3\" >Freqs / (% of Valid)</th>\n",
       "      <th id=\"T_a6e5f_level0_col4\" class=\"col_heading level0 col4\" >Graph</th>\n",
       "      <th id=\"T_a6e5f_level0_col5\" class=\"col_heading level0 col5\" >Missing</th>\n",
       "    </tr>\n",
       "  </thead>\n",
       "  <tbody>\n",
       "    <tr>\n",
       "      <td id=\"T_a6e5f_row0_col0\" class=\"data row0 col0\" >1</td>\n",
       "      <td id=\"T_a6e5f_row0_col1\" class=\"data row0 col1\" ><strong>idade</strong><br>[int64]</td>\n",
       "      <td id=\"T_a6e5f_row0_col2\" class=\"data row0 col2\" >Mean (sd) : 39.2 (14.0)<br>min < med < max:<br>18.0 < 39.0 < 64.0<br>IQR (CV) : 24.0 (2.8)</td>\n",
       "      <td id=\"T_a6e5f_row0_col3\" class=\"data row0 col3\" >47 distinct values</td>\n",
       "      <td id=\"T_a6e5f_row0_col4\" class=\"data row0 col4\" ><img src = \"data:image/png;base64, iVBORw0KGgoAAAANSUhEUgAAAKQAAABACAYAAACUYNzVAAAAOXRFWHRTb2Z0d2FyZQBNYXRwbG90bGliIHZlcnNpb24zLjUuMiwgaHR0cHM6Ly9tYXRwbG90bGliLm9yZy8qNh9FAAAACXBIWXMAAA9hAAAPYQGoP6dpAAACWklEQVR4nO3cS46iUBiG4f+0peIlEGOiMzfQSQ8csohebC+hBq7AHTgzMQYjXUREetBl+pKUVUAoPvR9pgYkJy8IJx5cnucGqPjS9AEAf3u69aFzbmBmvZL7PuV5/lJyWzyoN4N0zg2m0+l33/cnZXZ8OBz2zrkfRIkibl0he77vT8IwfAmCICmy0yiKvNVqNdntdj0zI0h82M2fbDOzIAiS2Wz2s8S+ByW2wYPjoQZSCBJSCBJSCBJSCBJSCBJSCBJSCBJSCBJSCBJSCBJSCBJSCBJSCBJSCBJSCBJSCBJS3v3HOOrHYro/CLJhLKb7V21BZlnWNTPfOVdm89ad9RWucv54PJ6FYXhgMV1NQcZx3E3T9Ntiseh0Op1Cg2zWvrO+ylUuTVMvy7Kv/X7/mcV0NQV5Op2ePM8bLpfLZD6f74ts29KzvvSS4c1mM1mv18Pz+dyp6+DapNZ7yNFo9OlLaJt8QCizZHi/3zd2hVN8mLqrhxoeED5OdazuKkjjbRtFSI7VvQVpZrxtowi1sZIMssKUkX+5XLo1HJKspsaqrmk9uSCrTBldp1CSJHk2szJnfas0NVZ1TuvJBVllyujRplCaGqs6p/XkgrwqM2VUdQqlrbcKTYxV2e999eZ3ywb52bhV0ECQr7hV0ECQ/2nq5w+/8QddSCFISCFISCFISCFISCFISCFISCFISCFISCFISCFISCFISCFISCFISCFISCFISCFISCFISCFISCFISCFISCFISCFISCFISHn3RQFRFHlFd3o8Hj0zsziOve12O2Rbtr16r6df+xm0rXMHRl8AAAAASUVORK5CYII=\"></img></td>\n",
       "      <td id=\"T_a6e5f_row0_col5\" class=\"data row0 col5\" >0<br>(0.0%)</td>\n",
       "    </tr>\n",
       "    <tr>\n",
       "      <td id=\"T_a6e5f_row1_col0\" class=\"data row1 col0\" >2</td>\n",
       "      <td id=\"T_a6e5f_row1_col1\" class=\"data row1 col1\" ><strong>sexo</strong><br>[object]</td>\n",
       "      <td id=\"T_a6e5f_row1_col2\" class=\"data row1 col2\" >1. male<br>2. female<br>3. nan</td>\n",
       "      <td id=\"T_a6e5f_row1_col3\" class=\"data row1 col3\" >676 (50.4%)<br>662 (49.4%)<br>3 (0.2%)</td>\n",
       "      <td id=\"T_a6e5f_row1_col4\" class=\"data row1 col4\" ><img src = \"data:image/png;base64, iVBORw0KGgoAAAANSUhEUgAAAJsAAABFCAYAAABdVZTTAAAAOXRFWHRTb2Z0d2FyZQBNYXRwbG90bGliIHZlcnNpb24zLjUuMiwgaHR0cHM6Ly9tYXRwbG90bGliLm9yZy8qNh9FAAAACXBIWXMAAA9hAAAPYQGoP6dpAAABmElEQVR4nO3bwYnbYBSF0fcbMclsJIzBJSQ9uIgUmyJURHowxlpkJrNRFtPA+Idcock5FTzMh42MblvXtSDhsPUB/D9aVT1X1dPWh+zQ27quL1sfsSfD6XT6MY7jcetD9mZZlltr7afgPm4Yx/F4uVxepml63fqYvbjf71/neT5er9enqhLbBw1VVdM0vZ7P599bH7Mzz1sfsDceEIgRGzFiI0ZsxIiNGLERIzZixEaM2IgRGzFiI0ZsxIiNGLERM1S9v5+19SF74vPqMyzLcpvn+Vjez3rIsiy3qnrb+o49sUHoZ4PwoGbKR4pvtj6+1TpYV3WwrOpjXfUgy6p+1lV9PLl38KcuMWIjRmzEiI0YsREjNmLERozYiBEbMWIjRmzEiI0YsREjNmKsqx7ks+pnXdXBsqqPDUIfG4QO1lXEeEAgRmzEHFpr31trnrD45w5V9a2qvmx9CJ+fn1FixEaM2IgRGzFiI0ZsxIiNGLERIzZixEaM2IgRGzFiI0ZsxIiNGLERc6iqX1X1Z+tD+Pysq4jxM0rMX+dFczrBYnMXAAAAAElFTkSuQmCC\"></img></td>\n",
       "      <td id=\"T_a6e5f_row1_col5\" class=\"data row1 col5\" >3<br>(0.2%)</td>\n",
       "    </tr>\n",
       "    <tr>\n",
       "      <td id=\"T_a6e5f_row2_col0\" class=\"data row2 col0\" >3</td>\n",
       "      <td id=\"T_a6e5f_row2_col1\" class=\"data row2 col1\" ><strong>imc</strong><br>[float64]</td>\n",
       "      <td id=\"T_a6e5f_row2_col2\" class=\"data row2 col2\" >Mean (sd) : 30.7 (6.1)<br>min < med < max:<br>16.0 < 30.4 < 53.1<br>IQR (CV) : 8.5 (5.0)</td>\n",
       "      <td id=\"T_a6e5f_row2_col3\" class=\"data row2 col3\" >550 distinct values</td>\n",
       "      <td id=\"T_a6e5f_row2_col4\" class=\"data row2 col4\" ><img src = \"data:image/png;base64, iVBORw0KGgoAAAANSUhEUgAAAKQAAABACAYAAACUYNzVAAAAOXRFWHRTb2Z0d2FyZQBNYXRwbG90bGliIHZlcnNpb24zLjUuMiwgaHR0cHM6Ly9tYXRwbG90bGliLm9yZy8qNh9FAAAACXBIWXMAAA9hAAAPYQGoP6dpAAACVklEQVR4nO3bwYraUBSH8XPrOESFiFh05wsUunDpQ/Rh+wgVfALfwJ0QJGJqMMZ00YF2CjNDrjfNfzLfb38xi4+EY05cVVUGqPjU9gUAf3to+wJCc84NzOzR8/ilqqpzyOtBPZ0K0jk3mE6n3+I4nvicPx6PB+fcd6JsT6eCNLPHOI4nq9XqPB6P8zoH0zSNNpvNJEmSRzMjyJZ0LUgzMxuPx/lsNvvpcXQQ/GJQC0MNpBAkpHTyke2rLMu+mcXOOZ/jTOgBEOSTLMv6RVF8XSwWvV6vV2sgMmNCD4Ugn1wul4coiobL5TKfz+eHOmeZ0MMhyH+MRiMm9BYx1EAKQUIKQUIKQUIKQUIKQUKK5N8+d+w0xrfbrR/6evD/yAV5z05jURRRWZZf8jz/YWY+/yWiZXJB2h07jbvdbrLdbofX67XX1MWhWYpBmpnfTuPhcOBtyTvHUAMpBAkpBAkpBAkpskPNe8O2eRgEGQDb5uEQZABsm4dDkAGxbX4/hhpIIUhIIUhIIUhIIUhIIUhIIUhIIUhIIUhIaexNDR9qwUcjQfKhFnw1dYfkQy14aXS5gg+1UBdDDaSwfiaAbfM/CLJlbJs/R5AtY9v8OYIUwbb5bww1kEKQkEKQkEKQkEKQkEKQkEKQkEKQkEKQkPLqmxq2vvV1bTHjxSDZ+tbXxcWM1+6QbH2L6+JixpvLFWx96/NdzCjLMjaxxz3bPh+U6uOeID+oex/36/V6liTJZ+fc0efnXwr5zSDTNI3q/trpdIrMzLIsi/b7/ZCzumd9nM/nxu6uvwCRxJ7xhL+7HgAAAABJRU5ErkJggg==\"></img></td>\n",
       "      <td id=\"T_a6e5f_row2_col5\" class=\"data row2 col5\" >0<br>(0.0%)</td>\n",
       "    </tr>\n",
       "    <tr>\n",
       "      <td id=\"T_a6e5f_row3_col0\" class=\"data row3 col0\" >4</td>\n",
       "      <td id=\"T_a6e5f_row3_col1\" class=\"data row3 col1\" ><strong>quantidade_filhos</strong><br>[int64]</td>\n",
       "      <td id=\"T_a6e5f_row3_col2\" class=\"data row3 col2\" >1. 0<br>2. 1<br>3. 2<br>4. 3<br>5. 4<br>6. 5</td>\n",
       "      <td id=\"T_a6e5f_row3_col3\" class=\"data row3 col3\" >577 (43.0%)<br>324 (24.2%)<br>240 (17.9%)<br>157 (11.7%)<br>25 (1.9%)<br>18 (1.3%)</td>\n",
       "      <td id=\"T_a6e5f_row3_col4\" class=\"data row3 col4\" ><img src = \"data:image/png;base64, iVBORw0KGgoAAAANSUhEUgAAAJsAAACKCAYAAAC96ziyAAAAOXRFWHRTb2Z0d2FyZQBNYXRwbG90bGliIHZlcnNpb24zLjUuMiwgaHR0cHM6Ly9tYXRwbG90bGliLm9yZy8qNh9FAAAACXBIWXMAAA9hAAAPYQGoP6dpAAACwklEQVR4nO3dQU7bUBiF0T9RRJuJowiJZbCALKKL7SKygOwDRXjQUCbpoBRBB8DAvs+yz5kxe0KfXuTIV1ldr9eChHXrA7AcYiNGbMSIjZhVVW2r6qb1QSbi+Xq9XlofYq42t7e3P7qu27c+yBT0fX9erVY/BTeOTdd1+8PhcNntdk+tD9PS4+Pj9+PxuH94eLipKrGNYFNVtdvtnu7u7n61PswEbFsfYM48IBAjNmLERozYiBEbMWIjRmzEiI0YsREjNmLERozYiBEbMZuqv6/XtD5Ia/4H49v0fX8+Ho/78npN9X1/rqrn1ueYK6+Fv+e18BGtjJRJmerN5oaZoUkOXgxP5mlygxfDk/ma6uBl8U/Gc+RLXWLERozYiBEbMWIjRmzEiI0YsREjNmLERozYiBEbMWIjRmzETG5dNaWzMKxJrqusnObJBoEY6ypiWtxsbq2Fiq+rLKeWK7quspxathbrqsk89ZLlS11ixEaM2IgRGzFiI0ZsxIiNGLERIzZixEaM2IgRGzFiI0ZsxETXVZZTyxZfV1lOLZcNAjHWVcQMebO5sfjQYOsqqyk+M8i6ymqKrxhyXWU1xYd8qUuM2IgRGzFiI0ZsxIiNGLERIzZixEaM2IgRGzFiI0ZsxAwyeDFk4SsGG7wYsvAZr4UTY/BCjAcEYv7/GPVRyGjerasspBjT+t+66nA4XF6im9pvjzITr+uql78tpBiNBwRixEaM2IgRGzFiI0ZsxIiNGLERIzZixEaM2IgRGzFiIyb6c0Is29t1lYUUo/JaODHWVcS8vdncaozqdfBi7MLY1l3X7e/v78vYhbGtq6q22+3v1gdh/nypS4zYiBEbMWIjRmzEiI0YsREjNmLERozYiBEbMWIjRmzEiI2YdVXV5XL51vogzN+67/vz6XSyrGJ0NgjEWFcR4wGBGLERIzZi/gDATCgsICz3oAAAAABJRU5ErkJggg==\"></img></td>\n",
       "      <td id=\"T_a6e5f_row3_col5\" class=\"data row3 col5\" >0<br>(0.0%)</td>\n",
       "    </tr>\n",
       "    <tr>\n",
       "      <td id=\"T_a6e5f_row4_col0\" class=\"data row4 col0\" >5</td>\n",
       "      <td id=\"T_a6e5f_row4_col1\" class=\"data row4 col1\" ><strong>fumante</strong><br>[object]</td>\n",
       "      <td id=\"T_a6e5f_row4_col2\" class=\"data row4 col2\" >1. no<br>2. yes</td>\n",
       "      <td id=\"T_a6e5f_row4_col3\" class=\"data row4 col3\" >1,067 (79.6%)<br>274 (20.4%)</td>\n",
       "      <td id=\"T_a6e5f_row4_col4\" class=\"data row4 col4\" ><img src = \"data:image/png;base64, iVBORw0KGgoAAAANSUhEUgAAAJsAAAAuCAYAAAA/ZmtKAAAAOXRFWHRTb2Z0d2FyZQBNYXRwbG90bGliIHZlcnNpb24zLjUuMiwgaHR0cHM6Ly9tYXRwbG90bGliLm9yZy8qNh9FAAAACXBIWXMAAA9hAAAPYQGoP6dpAAABMklEQVR4nO3bwYnDMBhE4dFiwuYiYQwuxkVssVuEujHGOiQhF+1ha8j8Ar+vAQnyEnDwpN67AIck6S7pFn0RWLx778+ow6dlWX5yznPUBeDTWjtSSr9RwU0553nbtmcp5RVxAXic5/lda533fb9JiolNkkopr3VdHxEXgNU98vCvyMNxLcQGG2KDDbHBhthgQ2ywITbYEBtsiA02xAYbYoMNscGG2GBDbLAhNthM0v+LddEXwWeN8BlPrbWj1jor+MU6fF5r7ZD0jjqfwcu1hA5eElM+uIzwyxb6bYNP+JQvel4Gn9Ap3wjzMviMMOXjKfgi+FMXNsQGG2KDDbHBhthgQ2ywITbYEBtsiA02xAYbYoMNscGG2GBDbLAhNtiETvlGmJfBJ3zKFz0vgw+DF9j8AQpbat+srJxBAAAAAElFTkSuQmCC\"></img></td>\n",
       "      <td id=\"T_a6e5f_row4_col5\" class=\"data row4 col5\" >0<br>(0.0%)</td>\n",
       "    </tr>\n",
       "    <tr>\n",
       "      <td id=\"T_a6e5f_row5_col0\" class=\"data row5 col0\" >6</td>\n",
       "      <td id=\"T_a6e5f_row5_col1\" class=\"data row5 col1\" ><strong>regiao</strong><br>[object]</td>\n",
       "      <td id=\"T_a6e5f_row5_col2\" class=\"data row5 col2\" >1. southeast<br>2. northeast<br>3. southwest<br>4. northwest</td>\n",
       "      <td id=\"T_a6e5f_row5_col3\" class=\"data row5 col3\" >364 (27.1%)<br>327 (24.4%)<br>325 (24.2%)<br>325 (24.2%)</td>\n",
       "      <td id=\"T_a6e5f_row5_col4\" class=\"data row5 col4\" ><img src = \"data:image/png;base64, iVBORw0KGgoAAAANSUhEUgAAAJsAAABcCAYAAAB5jMeAAAAAOXRFWHRTb2Z0d2FyZQBNYXRwbG90bGliIHZlcnNpb24zLjUuMiwgaHR0cHM6Ly9tYXRwbG90bGliLm9yZy8qNh9FAAAACXBIWXMAAA9hAAAPYQGoP6dpAAABxUlEQVR4nO3bTYrbQBSF0acgmvREwhi8GC8ii80itBtjXIN00xNlkHHSPwm3qp1zVvAGHzYSutO+7wUJX3ofwP9DbMRMVfVYVQ+9D3mDl33fn3ofwcfNx+Px27Ish96HvKa1dp2m6bvgPq95WZbD+Xx+Wtf1ufcxv3O73b5u23a4XC4PVSW2T2quqlrX9fl0Ov3ofcwrHnsfwN/xgECM2IgRGzFiI0ZsxIiNGLERIzZixEaM2IgRGzFiI0ZsxMxVvz7h6X3In4x+H28zt9au27YdavBPeFpr16p66X0HH+ezcGImUz5SPCAQM/LfqL/NOzPsusqa6v4Mua6yprpPI6+rhn4Vw/t5QCBGbMSIjRixESM2YsRGjNiIERsxYiNGbMSIjRixESM2YsRGzJBTvtHu4d8Ydspnund/bBCIMeUjxi8bMdZVxFhXEWNdRYyXusSIjRixESM2YsRGjNiIERsxYiNGbMSIjRixESM2YsRGjNiIsa4ixrqKGBsEYqyriPHLRox1FTHWVcRYVxHjpS4xYiNGbMSIjRixESM2YsRGjNiIERsxYiNGbMSIjRixESM2YqyriLGuIsYGgRjrKmI8IBDzEyec2Ln5AaEYAAAAAElFTkSuQmCC\"></img></td>\n",
       "      <td id=\"T_a6e5f_row5_col5\" class=\"data row5 col5\" >0<br>(0.0%)</td>\n",
       "    </tr>\n",
       "    <tr>\n",
       "      <td id=\"T_a6e5f_row6_col0\" class=\"data row6 col0\" >7</td>\n",
       "      <td id=\"T_a6e5f_row6_col1\" class=\"data row6 col1\" ><strong>custos_seguro</strong><br>[float64]</td>\n",
       "      <td id=\"T_a6e5f_row6_col2\" class=\"data row6 col2\" >Mean (sd) : 13240.7 (12112.7)<br>min < med < max:<br>0.0 < 9361.3 < 63770.4<br>IQR (CV) : 11867.0 (1.1)</td>\n",
       "      <td id=\"T_a6e5f_row6_col3\" class=\"data row6 col3\" >1,338 distinct values</td>\n",
       "      <td id=\"T_a6e5f_row6_col4\" class=\"data row6 col4\" ><img src = \"data:image/png;base64, iVBORw0KGgoAAAANSUhEUgAAAKQAAABACAYAAACUYNzVAAAAOXRFWHRTb2Z0d2FyZQBNYXRwbG90bGliIHZlcnNpb24zLjUuMiwgaHR0cHM6Ly9tYXRwbG90bGliLm9yZy8qNh9FAAAACXBIWXMAAA9hAAAPYQGoP6dpAAACSUlEQVR4nO3cvY7aQBSG4TOBRQNEHvEj6LiBSCmQaOiTMhebi9hia+6ADgkhI5xFWJbTZKNVpLDxOGg/7Pdp0RiKV3jmFOPKsjRAxYf3/gHAa91rHzrn+mbWi3z2pSzL58i1aKm/Bumc608mk29JkoxiHnw8Hg/Oue9EiSqu/UP2kiQZrdfr5xDCucpD0zT1j4+Po/1+3zMzgsQ/u/rKNjMLIZxns9mPiGf3I9ag5d4MMlZRFA9mljjnYpaz/2ypmwSZZdlDnuefF4tFp9PpVHrdm7H/bLObBHm5XLre+8FyuTzP5/NDlbXsP9vtZq9sM7PhcMj+E5UwGIcUgoQUgoQUgoQUgoQUgoQUgoQUgoQUgoQUgoQUgoQUgoQUgoQUgoQUgoQUgoQUgoQUgoQUgoQUgoQUgoQUgoQUgoQUgoQUgoQUgoQUgoQUgoQUgoQUgoQUgoQUgoSUm15YGov7ydtLLkjuJ283uSC5n7zd5IJ8wf3k7cShBlIIElIIElIIElIIElJkT9mxGKrft0YFyVD9/jUqSIbq969RQb5gqH6/GhnkvXHO9c2sF7m8UftegvxPakTlx+Px1xDCMOZ7m7bvJchXapzQo6PK89yb2afVavU0nU6PVdY2cd9LkL/UOaHXiWq73Y42m83Ae5+z7yXI3+qc0OtEdTgcagXVtLkrQf4h5oReN6pYTZy7EuQda+LclSAb4D3mrrcaVb0ZZJqmvuq3nU4nb2aWZZnf7XYD1uqtTdPUF0XRtfipwpcQwseqC82ubxV+AgAdYh5glKeeAAAAAElFTkSuQmCC\"></img></td>\n",
       "      <td id=\"T_a6e5f_row6_col5\" class=\"data row6 col5\" >0<br>(0.0%)</td>\n",
       "    </tr>\n",
       "  </tbody>\n",
       "</table>\n"
      ],
      "text/plain": [
       "<pandas.io.formats.style.Styler at 0x7f8169f81760>"
      ]
     },
     "execution_count": 72,
     "metadata": {},
     "output_type": "execute_result"
    }
   ],
   "source": [
    "#descrevendo os dados\n",
    "dfSummary(df)"
   ]
  },
  {
   "cell_type": "code",
   "execution_count": 73,
   "metadata": {},
   "outputs": [
    {
     "data": {
      "text/html": [
       "<div>\n",
       "<style scoped>\n",
       "    .dataframe tbody tr th:only-of-type {\n",
       "        vertical-align: middle;\n",
       "    }\n",
       "\n",
       "    .dataframe tbody tr th {\n",
       "        vertical-align: top;\n",
       "    }\n",
       "\n",
       "    .dataframe thead th {\n",
       "        text-align: right;\n",
       "    }\n",
       "</style>\n",
       "<table border=\"1\" class=\"dataframe\">\n",
       "  <thead>\n",
       "    <tr style=\"text-align: right;\">\n",
       "      <th></th>\n",
       "      <th>idade</th>\n",
       "      <th>sexo</th>\n",
       "      <th>imc</th>\n",
       "      <th>quantidade_filhos</th>\n",
       "      <th>fumante</th>\n",
       "      <th>regiao</th>\n",
       "      <th>custos_seguro</th>\n",
       "    </tr>\n",
       "  </thead>\n",
       "  <tbody>\n",
       "    <tr>\n",
       "      <th>581</th>\n",
       "      <td>19</td>\n",
       "      <td>male</td>\n",
       "      <td>30.59</td>\n",
       "      <td>0</td>\n",
       "      <td>no</td>\n",
       "      <td>northwest</td>\n",
       "      <td>1639.5631</td>\n",
       "    </tr>\n",
       "    <tr>\n",
       "      <th>1285</th>\n",
       "      <td>30</td>\n",
       "      <td>NaN</td>\n",
       "      <td>40.09</td>\n",
       "      <td>0</td>\n",
       "      <td>no</td>\n",
       "      <td>northeast</td>\n",
       "      <td>0.0000</td>\n",
       "    </tr>\n",
       "    <tr>\n",
       "      <th>1331</th>\n",
       "      <td>30</td>\n",
       "      <td>NaN</td>\n",
       "      <td>40.09</td>\n",
       "      <td>0</td>\n",
       "      <td>no</td>\n",
       "      <td>northeast</td>\n",
       "      <td>0.0000</td>\n",
       "    </tr>\n",
       "  </tbody>\n",
       "</table>\n",
       "</div>"
      ],
      "text/plain": [
       "      idade  sexo    imc  quantidade_filhos fumante     regiao  custos_seguro\n",
       "581      19  male  30.59                  0      no  northwest      1639.5631\n",
       "1285     30   NaN  40.09                  0      no  northeast         0.0000\n",
       "1331     30   NaN  40.09                  0      no  northeast         0.0000"
      ]
     },
     "execution_count": 73,
     "metadata": {},
     "output_type": "execute_result"
    }
   ],
   "source": [
    "#identificando os valores duplicados\n",
    "df[df.duplicated()]"
   ]
  },
  {
   "cell_type": "code",
   "execution_count": 74,
   "metadata": {},
   "outputs": [],
   "source": [
    "#excluindo as linhas em NA\n",
    "df=df.dropna()"
   ]
  },
  {
   "cell_type": "code",
   "execution_count": 75,
   "metadata": {},
   "outputs": [
    {
     "data": {
      "text/plain": [
       "(Index(['sexo', 'fumante', 'regiao'], dtype='object'),\n",
       " Index(['idade', 'imc', 'quantidade_filhos', 'custos_seguro'], dtype='object'))"
      ]
     },
     "execution_count": 75,
     "metadata": {},
     "output_type": "execute_result"
    }
   ],
   "source": [
    "#separando as colunas de numericas e categoricas\n",
    "cat_col=df.select_dtypes(exclude=\"number\").columns\n",
    "num_col=df.select_dtypes(\"number\").columns\n",
    "cat_col, num_col"
   ]
  },
  {
   "cell_type": "markdown",
   "metadata": {},
   "source": [
    "# analise exploratoria usado graficos"
   ]
  },
  {
   "cell_type": "code",
   "execution_count": 76,
   "metadata": {},
   "outputs": [
    {
     "data": {
      "image/png": "[encoded data removed]",
      "text/plain": [
       "<Figure size 640x480 with 1 Axes>"
      ]
     },
     "metadata": {},
     "output_type": "display_data"
    },
    {
     "data": {
      "image/png": "[encoded data removed]",
      "text/plain": [
       "<Figure size 640x480 with 1 Axes>"
      ]
     },
     "metadata": {},
     "output_type": "display_data"
    },
    {
     "data": {
      "image/png": "[encoded data removed]",
      "text/plain": [
       "<Figure size 640x480 with 1 Axes>"
      ]
     },
     "metadata": {},
     "output_type": "display_data"
    },
    {
     "data": {
      "image/png": "[encoded data removed]",
      "text/plain": [
       "<Figure size 640x480 with 1 Axes>"
      ]
     },
     "metadata": {},
     "output_type": "display_data"
    }
   ],
   "source": [
    "for col in num_col:\n",
    "    sns.histplot(data=df, x=col, kde=True, color=\"blue\")\n",
    "    plt.xlabel(col)\n",
    "    plt.title(col)\n",
    "    plt.show()\n"
   ]
  },
  {
   "cell_type": "code",
   "execution_count": 77,
   "metadata": {},
   "outputs": [
    {
     "data": {
      "image/png": "[encoded data removed]",
      "text/plain": [
       "<Figure size 640x480 with 1 Axes>"
      ]
     },
     "metadata": {},
     "output_type": "display_data"
    },
    {
     "data": {
      "image/png": "[encoded data removed]",
      "text/plain": [
       "<Figure size 640x480 with 1 Axes>"
      ]
     },
     "metadata": {},
     "output_type": "display_data"
    },
    {
     "data": {
      "image/png": "[encoded data removed]",
      "text/plain": [
       "<Figure size 640x480 with 1 Axes>"
      ]
     },
     "metadata": {},
     "output_type": "display_data"
    },
    {
     "data": {
      "image/png": "[encoded data removed]",
      "text/plain": [
       "<Figure size 640x480 with 1 Axes>"
      ]
     },
     "metadata": {},
     "output_type": "display_data"
    }
   ],
   "source": [
    "#usando a funcao loop para criarmos os graficos de boxplot\n",
    "for num in num_col:\n",
    "    sns.boxplot(data=df, x=num, orient=\"h\", color=\"blue\")\n",
    "    plt.show()"
   ]
  },
  {
   "cell_type": "markdown",
   "metadata": {},
   "source": [
    "# Analisando os dados e algum comportamento padrao"
   ]
  },
  {
   "cell_type": "code",
   "execution_count": 78,
   "metadata": {},
   "outputs": [
    {
     "data": {
      "text/html": [
       "<div>\n",
       "<style scoped>\n",
       "    .dataframe tbody tr th:only-of-type {\n",
       "        vertical-align: middle;\n",
       "    }\n",
       "\n",
       "    .dataframe tbody tr th {\n",
       "        vertical-align: top;\n",
       "    }\n",
       "\n",
       "    .dataframe thead th {\n",
       "        text-align: right;\n",
       "    }\n",
       "</style>\n",
       "<table border=\"1\" class=\"dataframe\">\n",
       "  <thead>\n",
       "    <tr style=\"text-align: right;\">\n",
       "      <th></th>\n",
       "      <th>idade</th>\n",
       "      <th>sexo</th>\n",
       "      <th>imc</th>\n",
       "      <th>quantidade_filhos</th>\n",
       "      <th>fumante</th>\n",
       "      <th>regiao</th>\n",
       "      <th>custos_seguro</th>\n",
       "    </tr>\n",
       "  </thead>\n",
       "  <tbody>\n",
       "    <tr>\n",
       "      <th>116</th>\n",
       "      <td>58</td>\n",
       "      <td>male</td>\n",
       "      <td>49.06</td>\n",
       "      <td>0</td>\n",
       "      <td>no</td>\n",
       "      <td>southeast</td>\n",
       "      <td>11381.32540</td>\n",
       "    </tr>\n",
       "    <tr>\n",
       "      <th>286</th>\n",
       "      <td>46</td>\n",
       "      <td>female</td>\n",
       "      <td>48.07</td>\n",
       "      <td>2</td>\n",
       "      <td>no</td>\n",
       "      <td>northeast</td>\n",
       "      <td>9432.92530</td>\n",
       "    </tr>\n",
       "    <tr>\n",
       "      <th>292</th>\n",
       "      <td>25</td>\n",
       "      <td>male</td>\n",
       "      <td>45.54</td>\n",
       "      <td>2</td>\n",
       "      <td>yes</td>\n",
       "      <td>southeast</td>\n",
       "      <td>42112.23560</td>\n",
       "    </tr>\n",
       "    <tr>\n",
       "      <th>401</th>\n",
       "      <td>47</td>\n",
       "      <td>male</td>\n",
       "      <td>47.52</td>\n",
       "      <td>1</td>\n",
       "      <td>no</td>\n",
       "      <td>southeast</td>\n",
       "      <td>8083.91980</td>\n",
       "    </tr>\n",
       "    <tr>\n",
       "      <th>438</th>\n",
       "      <td>52</td>\n",
       "      <td>female</td>\n",
       "      <td>46.75</td>\n",
       "      <td>5</td>\n",
       "      <td>no</td>\n",
       "      <td>southeast</td>\n",
       "      <td>12592.53450</td>\n",
       "    </tr>\n",
       "    <tr>\n",
       "      <th>454</th>\n",
       "      <td>32</td>\n",
       "      <td>male</td>\n",
       "      <td>46.53</td>\n",
       "      <td>2</td>\n",
       "      <td>no</td>\n",
       "      <td>southeast</td>\n",
       "      <td>4686.38870</td>\n",
       "    </tr>\n",
       "    <tr>\n",
       "      <th>543</th>\n",
       "      <td>54</td>\n",
       "      <td>female</td>\n",
       "      <td>47.41</td>\n",
       "      <td>0</td>\n",
       "      <td>yes</td>\n",
       "      <td>southeast</td>\n",
       "      <td>63770.42801</td>\n",
       "    </tr>\n",
       "    <tr>\n",
       "      <th>547</th>\n",
       "      <td>54</td>\n",
       "      <td>female</td>\n",
       "      <td>46.70</td>\n",
       "      <td>2</td>\n",
       "      <td>no</td>\n",
       "      <td>southwest</td>\n",
       "      <td>11538.42100</td>\n",
       "    </tr>\n",
       "    <tr>\n",
       "      <th>549</th>\n",
       "      <td>43</td>\n",
       "      <td>female</td>\n",
       "      <td>46.20</td>\n",
       "      <td>0</td>\n",
       "      <td>yes</td>\n",
       "      <td>southeast</td>\n",
       "      <td>45863.20500</td>\n",
       "    </tr>\n",
       "    <tr>\n",
       "      <th>582</th>\n",
       "      <td>39</td>\n",
       "      <td>male</td>\n",
       "      <td>45.43</td>\n",
       "      <td>2</td>\n",
       "      <td>no</td>\n",
       "      <td>southeast</td>\n",
       "      <td>6356.27070</td>\n",
       "    </tr>\n",
       "    <tr>\n",
       "      <th>660</th>\n",
       "      <td>37</td>\n",
       "      <td>male</td>\n",
       "      <td>46.53</td>\n",
       "      <td>3</td>\n",
       "      <td>no</td>\n",
       "      <td>southeast</td>\n",
       "      <td>6435.62370</td>\n",
       "    </tr>\n",
       "    <tr>\n",
       "      <th>847</th>\n",
       "      <td>23</td>\n",
       "      <td>male</td>\n",
       "      <td>50.38</td>\n",
       "      <td>1</td>\n",
       "      <td>no</td>\n",
       "      <td>southeast</td>\n",
       "      <td>2438.05520</td>\n",
       "    </tr>\n",
       "    <tr>\n",
       "      <th>860</th>\n",
       "      <td>37</td>\n",
       "      <td>female</td>\n",
       "      <td>47.60</td>\n",
       "      <td>2</td>\n",
       "      <td>yes</td>\n",
       "      <td>southwest</td>\n",
       "      <td>46113.51100</td>\n",
       "    </tr>\n",
       "    <tr>\n",
       "      <th>930</th>\n",
       "      <td>26</td>\n",
       "      <td>male</td>\n",
       "      <td>46.53</td>\n",
       "      <td>1</td>\n",
       "      <td>no</td>\n",
       "      <td>southeast</td>\n",
       "      <td>2927.06470</td>\n",
       "    </tr>\n",
       "    <tr>\n",
       "      <th>941</th>\n",
       "      <td>50</td>\n",
       "      <td>female</td>\n",
       "      <td>46.09</td>\n",
       "      <td>1</td>\n",
       "      <td>no</td>\n",
       "      <td>southeast</td>\n",
       "      <td>9549.56510</td>\n",
       "    </tr>\n",
       "    <tr>\n",
       "      <th>1024</th>\n",
       "      <td>47</td>\n",
       "      <td>female</td>\n",
       "      <td>45.32</td>\n",
       "      <td>1</td>\n",
       "      <td>no</td>\n",
       "      <td>southeast</td>\n",
       "      <td>8569.86180</td>\n",
       "    </tr>\n",
       "    <tr>\n",
       "      <th>1047</th>\n",
       "      <td>22</td>\n",
       "      <td>male</td>\n",
       "      <td>52.58</td>\n",
       "      <td>1</td>\n",
       "      <td>yes</td>\n",
       "      <td>southeast</td>\n",
       "      <td>44501.39820</td>\n",
       "    </tr>\n",
       "    <tr>\n",
       "      <th>1088</th>\n",
       "      <td>52</td>\n",
       "      <td>male</td>\n",
       "      <td>47.74</td>\n",
       "      <td>1</td>\n",
       "      <td>no</td>\n",
       "      <td>southeast</td>\n",
       "      <td>9748.91060</td>\n",
       "    </tr>\n",
       "    <tr>\n",
       "      <th>1131</th>\n",
       "      <td>27</td>\n",
       "      <td>male</td>\n",
       "      <td>45.90</td>\n",
       "      <td>2</td>\n",
       "      <td>no</td>\n",
       "      <td>southwest</td>\n",
       "      <td>3693.42800</td>\n",
       "    </tr>\n",
       "    <tr>\n",
       "      <th>1319</th>\n",
       "      <td>18</td>\n",
       "      <td>male</td>\n",
       "      <td>53.13</td>\n",
       "      <td>0</td>\n",
       "      <td>no</td>\n",
       "      <td>southeast</td>\n",
       "      <td>1163.46270</td>\n",
       "    </tr>\n",
       "  </tbody>\n",
       "</table>\n",
       "</div>"
      ],
      "text/plain": [
       "      idade    sexo    imc  quantidade_filhos fumante     regiao  \\\n",
       "116      58    male  49.06                  0      no  southeast   \n",
       "286      46  female  48.07                  2      no  northeast   \n",
       "292      25    male  45.54                  2     yes  southeast   \n",
       "401      47    male  47.52                  1      no  southeast   \n",
       "438      52  female  46.75                  5      no  southeast   \n",
       "454      32    male  46.53                  2      no  southeast   \n",
       "543      54  female  47.41                  0     yes  southeast   \n",
       "547      54  female  46.70                  2      no  southwest   \n",
       "549      43  female  46.20                  0     yes  southeast   \n",
       "582      39    male  45.43                  2      no  southeast   \n",
       "660      37    male  46.53                  3      no  southeast   \n",
       "847      23    male  50.38                  1      no  southeast   \n",
       "860      37  female  47.60                  2     yes  southwest   \n",
       "930      26    male  46.53                  1      no  southeast   \n",
       "941      50  female  46.09                  1      no  southeast   \n",
       "1024     47  female  45.32                  1      no  southeast   \n",
       "1047     22    male  52.58                  1     yes  southeast   \n",
       "1088     52    male  47.74                  1      no  southeast   \n",
       "1131     27    male  45.90                  2      no  southwest   \n",
       "1319     18    male  53.13                  0      no  southeast   \n",
       "\n",
       "      custos_seguro  \n",
       "116     11381.32540  \n",
       "286      9432.92530  \n",
       "292     42112.23560  \n",
       "401      8083.91980  \n",
       "438     12592.53450  \n",
       "454      4686.38870  \n",
       "543     63770.42801  \n",
       "547     11538.42100  \n",
       "549     45863.20500  \n",
       "582      6356.27070  \n",
       "660      6435.62370  \n",
       "847      2438.05520  \n",
       "860     46113.51100  \n",
       "930      2927.06470  \n",
       "941      9549.56510  \n",
       "1024     8569.86180  \n",
       "1047    44501.39820  \n",
       "1088     9748.91060  \n",
       "1131     3693.42800  \n",
       "1319     1163.46270  "
      ]
     },
     "execution_count": 78,
     "metadata": {},
     "output_type": "execute_result"
    }
   ],
   "source": [
    "# quantidade de pessoas com IMC acima de 45\n",
    "df.loc[(df[\"imc\"]>45)]\n"
   ]
  },
  {
   "cell_type": "code",
   "execution_count": 79,
   "metadata": {},
   "outputs": [
    {
     "data": {
      "text/html": [
       "<div>\n",
       "<style scoped>\n",
       "    .dataframe tbody tr th:only-of-type {\n",
       "        vertical-align: middle;\n",
       "    }\n",
       "\n",
       "    .dataframe tbody tr th {\n",
       "        vertical-align: top;\n",
       "    }\n",
       "\n",
       "    .dataframe thead th {\n",
       "        text-align: right;\n",
       "    }\n",
       "</style>\n",
       "<table border=\"1\" class=\"dataframe\">\n",
       "  <thead>\n",
       "    <tr style=\"text-align: right;\">\n",
       "      <th></th>\n",
       "      <th>sexo</th>\n",
       "      <th>fumante</th>\n",
       "      <th>imc</th>\n",
       "    </tr>\n",
       "  </thead>\n",
       "  <tbody>\n",
       "    <tr>\n",
       "      <th>3</th>\n",
       "      <td>male</td>\n",
       "      <td>yes</td>\n",
       "      <td>31.504182</td>\n",
       "    </tr>\n",
       "    <tr>\n",
       "      <th>2</th>\n",
       "      <td>male</td>\n",
       "      <td>no</td>\n",
       "      <td>30.771663</td>\n",
       "    </tr>\n",
       "    <tr>\n",
       "      <th>0</th>\n",
       "      <td>female</td>\n",
       "      <td>no</td>\n",
       "      <td>30.539525</td>\n",
       "    </tr>\n",
       "    <tr>\n",
       "      <th>1</th>\n",
       "      <td>female</td>\n",
       "      <td>yes</td>\n",
       "      <td>29.608261</td>\n",
       "    </tr>\n",
       "  </tbody>\n",
       "</table>\n",
       "</div>"
      ],
      "text/plain": [
       "     sexo fumante        imc\n",
       "3    male     yes  31.504182\n",
       "2    male      no  30.771663\n",
       "0  female      no  30.539525\n",
       "1  female     yes  29.608261"
      ]
     },
     "execution_count": 79,
     "metadata": {},
     "output_type": "execute_result"
    }
   ],
   "source": [
    "#entendendo percentual medio de IMC masculino e feminino\n",
    "(df.groupby([\"sexo\",\"fumante\"])\n",
    " .agg({\"imc\":\"mean\"})\n",
    " .reset_index()\n",
    " .sort_values(\"imc\", ascending=False))"
   ]
  },
  {
   "cell_type": "code",
   "execution_count": 80,
   "metadata": {},
   "outputs": [
    {
     "data": {
      "image/png": "[encoded data removed]",
      "text/plain": [
       "<Figure size 1000x800 with 1 Axes>"
      ]
     },
     "metadata": {},
     "output_type": "display_data"
    }
   ],
   "source": [
    "#entendedo imc de idade\n",
    "#parametro 1 -> qual dataframe, parametro 2-> vamos puxar quantas linhas para no nosso dataset novo\n",
    "def imc_idade(df:pd.DataFrame, n=int)->pd.DataFrame:\n",
    "    imc=(df\n",
    "    .groupby([\"idade\"])\n",
    "    .agg({\"imc\":\"mean\"})\n",
    "    .reset_index()\n",
    "    .head(n)\n",
    "    .sort_values(\"imc\", ascending=False))\n",
    "    return imc\n",
    "\n",
    "\n",
    "imc_plot=imc_idade(df,10)\n",
    "plt.figure(figsize=(10,8))\n",
    "sns.barplot(data=imc_plot, x=\"idade\", y= \"imc\").set(title=\"Idade x Imc\")\n",
    "plt.show()\n",
    "\n",
    "\n"
   ]
  },
  {
   "cell_type": "code",
   "execution_count": 81,
   "metadata": {},
   "outputs": [
    {
     "data": {
      "text/html": [
       "<div>\n",
       "<style scoped>\n",
       "    .dataframe tbody tr th:only-of-type {\n",
       "        vertical-align: middle;\n",
       "    }\n",
       "\n",
       "    .dataframe tbody tr th {\n",
       "        vertical-align: top;\n",
       "    }\n",
       "\n",
       "    .dataframe thead th {\n",
       "        text-align: right;\n",
       "    }\n",
       "</style>\n",
       "<table border=\"1\" class=\"dataframe\">\n",
       "  <thead>\n",
       "    <tr style=\"text-align: right;\">\n",
       "      <th></th>\n",
       "      <th>custos_seguro</th>\n",
       "    </tr>\n",
       "    <tr>\n",
       "      <th>regiao</th>\n",
       "      <th></th>\n",
       "    </tr>\n",
       "  </thead>\n",
       "  <tbody>\n",
       "    <tr>\n",
       "      <th>southeast</th>\n",
       "      <td>14735.411438</td>\n",
       "    </tr>\n",
       "    <tr>\n",
       "      <th>northeast</th>\n",
       "      <td>13406.384516</td>\n",
       "    </tr>\n",
       "    <tr>\n",
       "      <th>northwest</th>\n",
       "      <td>12417.575374</td>\n",
       "    </tr>\n",
       "    <tr>\n",
       "      <th>southwest</th>\n",
       "      <td>12346.937377</td>\n",
       "    </tr>\n",
       "  </tbody>\n",
       "</table>\n",
       "</div>"
      ],
      "text/plain": [
       "           custos_seguro\n",
       "regiao                  \n",
       "southeast   14735.411438\n",
       "northeast   13406.384516\n",
       "northwest   12417.575374\n",
       "southwest   12346.937377"
      ]
     },
     "execution_count": 81,
     "metadata": {},
     "output_type": "execute_result"
    }
   ],
   "source": [
    "#entendendo valores de cota para regiao\n",
    "regiao_custo=(df.groupby([\"regiao\"])\n",
    "           .agg({\"custos_seguro\":\"mean\"})\n",
    "           .sort_index()\n",
    "           .sort_values(\"custos_seguro\", ascending=False))\n",
    "\n",
    "regiao_custo"
   ]
  },
  {
   "cell_type": "markdown",
   "metadata": {},
   "source": [
    "Entendendo  a correlacao dos valores"
   ]
  },
  {
   "cell_type": "code",
   "execution_count": 82,
   "metadata": {},
   "outputs": [
    {
     "data": {
      "text/html": [
       "<div>\n",
       "<style scoped>\n",
       "    .dataframe tbody tr th:only-of-type {\n",
       "        vertical-align: middle;\n",
       "    }\n",
       "\n",
       "    .dataframe tbody tr th {\n",
       "        vertical-align: top;\n",
       "    }\n",
       "\n",
       "    .dataframe thead th {\n",
       "        text-align: right;\n",
       "    }\n",
       "</style>\n",
       "<table border=\"1\" class=\"dataframe\">\n",
       "  <thead>\n",
       "    <tr style=\"text-align: right;\">\n",
       "      <th></th>\n",
       "      <th>idade</th>\n",
       "      <th>imc</th>\n",
       "      <th>quantidade_filhos</th>\n",
       "      <th>custos_seguro</th>\n",
       "    </tr>\n",
       "  </thead>\n",
       "  <tbody>\n",
       "    <tr>\n",
       "      <th>idade</th>\n",
       "      <td>1.000000</td>\n",
       "      <td>0.109214</td>\n",
       "      <td>0.042469</td>\n",
       "      <td>0.299008</td>\n",
       "    </tr>\n",
       "    <tr>\n",
       "      <th>imc</th>\n",
       "      <td>0.109214</td>\n",
       "      <td>1.000000</td>\n",
       "      <td>0.012867</td>\n",
       "      <td>0.198285</td>\n",
       "    </tr>\n",
       "    <tr>\n",
       "      <th>quantidade_filhos</th>\n",
       "      <td>0.042469</td>\n",
       "      <td>0.012867</td>\n",
       "      <td>1.000000</td>\n",
       "      <td>0.067998</td>\n",
       "    </tr>\n",
       "    <tr>\n",
       "      <th>custos_seguro</th>\n",
       "      <td>0.299008</td>\n",
       "      <td>0.198285</td>\n",
       "      <td>0.067998</td>\n",
       "      <td>1.000000</td>\n",
       "    </tr>\n",
       "  </tbody>\n",
       "</table>\n",
       "</div>"
      ],
      "text/plain": [
       "                      idade       imc  quantidade_filhos  custos_seguro\n",
       "idade              1.000000  0.109214           0.042469       0.299008\n",
       "imc                0.109214  1.000000           0.012867       0.198285\n",
       "quantidade_filhos  0.042469  0.012867           1.000000       0.067998\n",
       "custos_seguro      0.299008  0.198285           0.067998       1.000000"
      ]
     },
     "execution_count": 82,
     "metadata": {},
     "output_type": "execute_result"
    }
   ],
   "source": [
    "df[num_col].corr().T"
   ]
  },
  {
   "cell_type": "code",
   "execution_count": 83,
   "metadata": {},
   "outputs": [
    {
     "data": {
      "image/png": "[encoded data removed]",
      "text/plain": [
       "<Figure size 1800x1000 with 2 Axes>"
      ]
     },
     "metadata": {},
     "output_type": "display_data"
    }
   ],
   "source": [
    "\n",
    "df_corr=df[num_col].corr()\n",
    "\n",
    "#cria uma matriz triangular superior com zeros nas diagonais \n",
    "mask=np.triu(np.ones_like(df_corr))\n",
    "\n",
    "#plotando heatmap\n",
    "plt.figure(figsize=(18,10))\n",
    "sns.heatmap(data=df_corr,mask=mask, cmap=sns.cubehelix_palette(as_cmap=True), annot=True)\n",
    "plt.title(\"Heatmap das variaveis numericas\")\n",
    "plt.show()\n"
   ]
  },
  {
   "cell_type": "markdown",
   "metadata": {},
   "source": [
    "# Preprocessing"
   ]
  },
  {
   "cell_type": "markdown",
   "metadata": {},
   "source": [
    "* Transformando o as colunas categoricas para Label Enconder"
   ]
  },
  {
   "cell_type": "code",
   "execution_count": 84,
   "metadata": {},
   "outputs": [
    {
     "name": "stderr",
     "output_type": "stream",
     "text": [
      "/var/folders/s2/z2r_n2517y18_q1zxtj3m5lw0000gn/T/ipykernel_14391/2351497991.py:3: SettingWithCopyWarning: \n",
      "A value is trying to be set on a copy of a slice from a DataFrame.\n",
      "Try using .loc[row_indexer,col_indexer] = value instead\n",
      "\n",
      "See the caveats in the documentation: https://pandas.pydata.org/pandas-docs/stable/user_guide/indexing.html#returning-a-view-versus-a-copy\n",
      "  df[cat]=label.fit_transform(df[cat])\n"
     ]
    },
    {
     "data": {
      "text/html": [
       "<div>\n",
       "<style scoped>\n",
       "    .dataframe tbody tr th:only-of-type {\n",
       "        vertical-align: middle;\n",
       "    }\n",
       "\n",
       "    .dataframe tbody tr th {\n",
       "        vertical-align: top;\n",
       "    }\n",
       "\n",
       "    .dataframe thead th {\n",
       "        text-align: right;\n",
       "    }\n",
       "</style>\n",
       "<table border=\"1\" class=\"dataframe\">\n",
       "  <thead>\n",
       "    <tr style=\"text-align: right;\">\n",
       "      <th></th>\n",
       "      <th>idade</th>\n",
       "      <th>sexo</th>\n",
       "      <th>imc</th>\n",
       "      <th>quantidade_filhos</th>\n",
       "      <th>fumante</th>\n",
       "      <th>regiao</th>\n",
       "      <th>custos_seguro</th>\n",
       "    </tr>\n",
       "  </thead>\n",
       "  <tbody>\n",
       "    <tr>\n",
       "      <th>0</th>\n",
       "      <td>19</td>\n",
       "      <td>0</td>\n",
       "      <td>27.900</td>\n",
       "      <td>0</td>\n",
       "      <td>1</td>\n",
       "      <td>3</td>\n",
       "      <td>16884.92400</td>\n",
       "    </tr>\n",
       "    <tr>\n",
       "      <th>1</th>\n",
       "      <td>18</td>\n",
       "      <td>1</td>\n",
       "      <td>33.770</td>\n",
       "      <td>1</td>\n",
       "      <td>0</td>\n",
       "      <td>2</td>\n",
       "      <td>1725.55230</td>\n",
       "    </tr>\n",
       "    <tr>\n",
       "      <th>2</th>\n",
       "      <td>28</td>\n",
       "      <td>1</td>\n",
       "      <td>33.560</td>\n",
       "      <td>3</td>\n",
       "      <td>0</td>\n",
       "      <td>2</td>\n",
       "      <td>4449.46200</td>\n",
       "    </tr>\n",
       "    <tr>\n",
       "      <th>3</th>\n",
       "      <td>33</td>\n",
       "      <td>1</td>\n",
       "      <td>22.705</td>\n",
       "      <td>0</td>\n",
       "      <td>0</td>\n",
       "      <td>1</td>\n",
       "      <td>21984.47061</td>\n",
       "    </tr>\n",
       "    <tr>\n",
       "      <th>4</th>\n",
       "      <td>32</td>\n",
       "      <td>1</td>\n",
       "      <td>28.880</td>\n",
       "      <td>0</td>\n",
       "      <td>0</td>\n",
       "      <td>1</td>\n",
       "      <td>3866.85520</td>\n",
       "    </tr>\n",
       "    <tr>\n",
       "      <th>...</th>\n",
       "      <td>...</td>\n",
       "      <td>...</td>\n",
       "      <td>...</td>\n",
       "      <td>...</td>\n",
       "      <td>...</td>\n",
       "      <td>...</td>\n",
       "      <td>...</td>\n",
       "    </tr>\n",
       "    <tr>\n",
       "      <th>1336</th>\n",
       "      <td>50</td>\n",
       "      <td>1</td>\n",
       "      <td>30.970</td>\n",
       "      <td>3</td>\n",
       "      <td>0</td>\n",
       "      <td>1</td>\n",
       "      <td>10600.54830</td>\n",
       "    </tr>\n",
       "    <tr>\n",
       "      <th>1337</th>\n",
       "      <td>18</td>\n",
       "      <td>0</td>\n",
       "      <td>31.920</td>\n",
       "      <td>0</td>\n",
       "      <td>0</td>\n",
       "      <td>0</td>\n",
       "      <td>2205.98080</td>\n",
       "    </tr>\n",
       "    <tr>\n",
       "      <th>1338</th>\n",
       "      <td>18</td>\n",
       "      <td>0</td>\n",
       "      <td>36.850</td>\n",
       "      <td>0</td>\n",
       "      <td>0</td>\n",
       "      <td>2</td>\n",
       "      <td>1629.83350</td>\n",
       "    </tr>\n",
       "    <tr>\n",
       "      <th>1339</th>\n",
       "      <td>21</td>\n",
       "      <td>0</td>\n",
       "      <td>25.800</td>\n",
       "      <td>0</td>\n",
       "      <td>0</td>\n",
       "      <td>3</td>\n",
       "      <td>2007.94500</td>\n",
       "    </tr>\n",
       "    <tr>\n",
       "      <th>1340</th>\n",
       "      <td>61</td>\n",
       "      <td>0</td>\n",
       "      <td>29.070</td>\n",
       "      <td>0</td>\n",
       "      <td>1</td>\n",
       "      <td>1</td>\n",
       "      <td>29141.36030</td>\n",
       "    </tr>\n",
       "  </tbody>\n",
       "</table>\n",
       "<p>1338 rows × 7 columns</p>\n",
       "</div>"
      ],
      "text/plain": [
       "      idade  sexo     imc  quantidade_filhos  fumante  regiao  custos_seguro\n",
       "0        19     0  27.900                  0        1       3    16884.92400\n",
       "1        18     1  33.770                  1        0       2     1725.55230\n",
       "2        28     1  33.560                  3        0       2     4449.46200\n",
       "3        33     1  22.705                  0        0       1    21984.47061\n",
       "4        32     1  28.880                  0        0       1     3866.85520\n",
       "...     ...   ...     ...                ...      ...     ...            ...\n",
       "1336     50     1  30.970                  3        0       1    10600.54830\n",
       "1337     18     0  31.920                  0        0       0     2205.98080\n",
       "1338     18     0  36.850                  0        0       2     1629.83350\n",
       "1339     21     0  25.800                  0        0       3     2007.94500\n",
       "1340     61     0  29.070                  0        1       1    29141.36030\n",
       "\n",
       "[1338 rows x 7 columns]"
      ]
     },
     "execution_count": 84,
     "metadata": {},
     "output_type": "execute_result"
    }
   ],
   "source": [
    "label=LabelEncoder()\n",
    "for cat in cat_col:\n",
    "    df[cat]=label.fit_transform(df[cat])\n",
    "\n",
    "df\n"
   ]
  },
  {
   "cell_type": "code",
   "execution_count": 85,
   "metadata": {},
   "outputs": [
    {
     "data": {
      "text/plain": [
       "['idade',\n",
       " 'sexo',\n",
       " 'imc',\n",
       " 'quantidade_filhos',\n",
       " 'fumante',\n",
       " 'regiao',\n",
       " 'custos_seguro']"
      ]
     },
     "execution_count": 85,
     "metadata": {},
     "output_type": "execute_result"
    }
   ],
   "source": [
    "#puxando nome de todas as colunas\n",
    "columns=df.columns.to_list()\n",
    "columns"
   ]
  },
  {
   "cell_type": "code",
   "execution_count": 86,
   "metadata": {},
   "outputs": [
    {
     "data": {
      "text/html": [
       "<div>\n",
       "<style scoped>\n",
       "    .dataframe tbody tr th:only-of-type {\n",
       "        vertical-align: middle;\n",
       "    }\n",
       "\n",
       "    .dataframe tbody tr th {\n",
       "        vertical-align: top;\n",
       "    }\n",
       "\n",
       "    .dataframe thead th {\n",
       "        text-align: right;\n",
       "    }\n",
       "</style>\n",
       "<table border=\"1\" class=\"dataframe\">\n",
       "  <thead>\n",
       "    <tr style=\"text-align: right;\">\n",
       "      <th></th>\n",
       "      <th>idade</th>\n",
       "      <th>sexo</th>\n",
       "      <th>imc</th>\n",
       "      <th>quantidade_filhos</th>\n",
       "      <th>fumante</th>\n",
       "      <th>regiao</th>\n",
       "      <th>custos_seguro</th>\n",
       "    </tr>\n",
       "  </thead>\n",
       "  <tbody>\n",
       "    <tr>\n",
       "      <th>0</th>\n",
       "      <td>19</td>\n",
       "      <td>0</td>\n",
       "      <td>27.9</td>\n",
       "      <td>0</td>\n",
       "      <td>1</td>\n",
       "      <td>3</td>\n",
       "      <td>16884.924</td>\n",
       "    </tr>\n",
       "  </tbody>\n",
       "</table>\n",
       "</div>"
      ],
      "text/plain": [
       "   idade  sexo   imc  quantidade_filhos  fumante  regiao  custos_seguro\n",
       "0     19     0  27.9                  0        1       3      16884.924"
      ]
     },
     "execution_count": 86,
     "metadata": {},
     "output_type": "execute_result"
    }
   ],
   "source": [
    "df.head(1)"
   ]
  },
  {
   "cell_type": "markdown",
   "metadata": {},
   "source": [
    "* Normalizando os dados usando Robust Scaler"
   ]
  },
  {
   "cell_type": "code",
   "execution_count": 87,
   "metadata": {},
   "outputs": [
    {
     "data": {
      "text/html": [
       "<div>\n",
       "<style scoped>\n",
       "    .dataframe tbody tr th:only-of-type {\n",
       "        vertical-align: middle;\n",
       "    }\n",
       "\n",
       "    .dataframe tbody tr th {\n",
       "        vertical-align: top;\n",
       "    }\n",
       "\n",
       "    .dataframe thead th {\n",
       "        text-align: right;\n",
       "    }\n",
       "</style>\n",
       "<table border=\"1\" class=\"dataframe\">\n",
       "  <thead>\n",
       "    <tr style=\"text-align: right;\">\n",
       "      <th></th>\n",
       "      <th>idade</th>\n",
       "      <th>sexo</th>\n",
       "      <th>imc</th>\n",
       "      <th>quantidade_filhos</th>\n",
       "      <th>fumante</th>\n",
       "      <th>regiao</th>\n",
       "      <th>custos_seguro</th>\n",
       "    </tr>\n",
       "  </thead>\n",
       "  <tbody>\n",
       "    <tr>\n",
       "      <th>0</th>\n",
       "      <td>-0.833333</td>\n",
       "      <td>-1.0</td>\n",
       "      <td>-0.297708</td>\n",
       "      <td>-0.5</td>\n",
       "      <td>1.0</td>\n",
       "      <td>1.0</td>\n",
       "      <td>0.630515</td>\n",
       "    </tr>\n",
       "  </tbody>\n",
       "</table>\n",
       "</div>"
      ],
      "text/plain": [
       "      idade  sexo       imc  quantidade_filhos  fumante  regiao  custos_seguro\n",
       "0 -0.833333  -1.0 -0.297708               -0.5      1.0     1.0       0.630515"
      ]
     },
     "execution_count": 87,
     "metadata": {},
     "output_type": "execute_result"
    }
   ],
   "source": [
    "#normalizando nos valores usando robustsacaler\n",
    "robust=RobustScaler()\n",
    "df_norm=pd.DataFrame(robust.fit_transform(df).tolist(),\n",
    "             columns=robust.get_feature_names_out())\n",
    "\n",
    "df_norm.head(1)\n",
    "\n",
    "\n"
   ]
  },
  {
   "cell_type": "markdown",
   "metadata": {},
   "source": [
    "* Determinando a target e a colunas explicativas"
   ]
  },
  {
   "cell_type": "code",
   "execution_count": 88,
   "metadata": {},
   "outputs": [],
   "source": [
    "x=df_norm.drop(columns=\"custos_seguro\")\n",
    "y=df_norm[\"custos_seguro\"]\n",
    "    \n"
   ]
  },
  {
   "cell_type": "markdown",
   "metadata": {},
   "source": [
    "* Separando os dados em x,y treino e teste, com proporcao de 70/30, random state 42"
   ]
  },
  {
   "cell_type": "code",
   "execution_count": 89,
   "metadata": {},
   "outputs": [],
   "source": [
    "x_train, x_test, y_train, y_test= tts(x,y, test_size=0.3, random_state=42)\n"
   ]
  },
  {
   "cell_type": "markdown",
   "metadata": {},
   "source": [
    "# Instanciando e treinando o modelos"
   ]
  },
  {
   "cell_type": "code",
   "execution_count": 90,
   "metadata": {},
   "outputs": [
    {
     "name": "stdout",
     "output_type": "stream",
     "text": [
      "R2: 0.7206919251914028\n",
      "MAE: 0.25199294120154725\n",
      "MSE: 0.28921638204396916\n",
      "RMSE: 0.5377884175435254\n"
     ]
    }
   ],
   "source": [
    "tree=DecisionTreeRegressor()\n",
    "tree.fit(x_train, y_train)\n",
    "evaluation(tree, x_test, y_test)\n",
    "\n"
   ]
  },
  {
   "cell_type": "code",
   "execution_count": 91,
   "metadata": {},
   "outputs": [
    {
     "name": "stdout",
     "output_type": "stream",
     "text": [
      "R2: 0.8276284920005142\n",
      "MAE: 0.3226098760383921\n",
      "MSE: 0.17848629670029106\n",
      "RMSE: 0.4224763859676551\n"
     ]
    }
   ],
   "source": [
    "ada=AdaBoostRegressor()\n",
    "ada.fit(x_train, y_train)\n",
    "\n",
    "evaluation(ada, x_test, y_test)\n"
   ]
  },
  {
   "cell_type": "code",
   "execution_count": 92,
   "metadata": {},
   "outputs": [
    {
     "name": "stdout",
     "output_type": "stream",
     "text": [
      "R2: 0.8566264458590184\n",
      "MAE: 0.20823963983893626\n",
      "MSE: 0.14845965566106686\n",
      "RMSE: 0.38530462709532426\n"
     ]
    }
   ],
   "source": [
    "rf=RandomForestRegressor()\n",
    "rf.fit(x_train, y_train)\n",
    "\n",
    "evaluation(rf, x_test, y_test)"
   ]
  },
  {
   "cell_type": "code",
   "execution_count": 93,
   "metadata": {},
   "outputs": [
    {
     "name": "stdout",
     "output_type": "stream",
     "text": [
      "R2: 0.8689369710587296\n",
      "MAE: 0.20503235435150013\n",
      "MSE: 0.13571242104652362\n",
      "RMSE: 0.3683916679928085\n"
     ]
    }
   ],
   "source": [
    "gbr=GradientBoostingRegressor()\n",
    "gbr.fit(x_train, y_train)\n",
    "\n",
    "evaluation(gbr, x_test, y_test)\n"
   ]
  },
  {
   "cell_type": "code",
   "execution_count": 94,
   "metadata": {},
   "outputs": [
    {
     "name": "stdout",
     "output_type": "stream",
     "text": [
      "R2: 0.8259856694892528\n",
      "MAE: 0.23717174720970363\n",
      "MSE: 0.18018739747717702\n",
      "RMSE: 0.4244848613050612\n"
     ]
    }
   ],
   "source": [
    "xgbr=XGBRegressor()\n",
    "xgbr.fit(x_train, y_train)\n",
    "evaluation(xgbr, x_test, y_test)"
   ]
  },
  {
   "cell_type": "markdown",
   "metadata": {},
   "source": [
    "# Utilizando o  Voting regressor para criar um modelo hibrido"
   ]
  },
  {
   "cell_type": "code",
   "execution_count": 95,
   "metadata": {},
   "outputs": [
    {
     "name": "stdout",
     "output_type": "stream",
     "text": [
      "R2: 0.8597650351513345\n",
      "MAE: 0.20717379587445892\n",
      "MSE: 0.14520972656228354\n",
      "RMSE: 0.3810639402544979\n"
     ]
    }
   ],
   "source": [
    "voting=VotingRegressor([(\"xgbr\",xgbr),(\"rf\", rf) ,(\"gbr\", gbr) ])\n",
    "voting.fit(x_train, y_train)\n",
    "\n",
    "evaluation(voting, x_test, y_test)"
   ]
  },
  {
   "cell_type": "markdown",
   "metadata": {},
   "source": [
    "# Melhor modelo foi o Gradientboost, nessa fase vamos trabalhar os hiperparamentros para tentar melhorar o modelo"
   ]
  },
  {
   "cell_type": "code",
   "execution_count": 96,
   "metadata": {},
   "outputs": [],
   "source": [
    "#passando parametros para treino\n",
    "parameters= {'learning_rate': [0.01], \n",
    "        'max_depth': [4], \n",
    "        'n_estimators': [500],\n",
    "          'subsample': [0.5]\n",
    "          }\n",
    "                "
   ]
  },
  {
   "cell_type": "code",
   "execution_count": 97,
   "metadata": {},
   "outputs": [],
   "source": [
    "#instanciando o modelo gradientboostregressor e atribundo a variavel gbrtuned\n",
    "gbrtuned=GradientBoostingRegressor()"
   ]
  },
  {
   "cell_type": "code",
   "execution_count": 98,
   "metadata": {},
   "outputs": [],
   "source": [
    "#treinando o modelo GRIDSEARCHCV\n",
    "grid=GridSearchCV(estimator=gbrtuned, param_grid=parameters, cv=5, n_jobs=-1,scoring=\"r2\")\n",
    "\n"
   ]
  },
  {
   "cell_type": "code",
   "execution_count": 99,
   "metadata": {},
   "outputs": [
    {
     "data": {
      "text/html": [
       "<style>#sk-83c63e0d-911f-4232-9985-0f90baede911 {color: black;background-color: white;}#sk-83c63e0d-911f-4232-9985-0f90baede911 pre{padding: 0;}#sk-83c63e0d-911f-4232-9985-0f90baede911 div.sk-toggleable {background-color: white;}#sk-83c63e0d-911f-4232-9985-0f90baede911 label.sk-toggleable__label {cursor: pointer;display: block;width: 100%;margin-bottom: 0;padding: 0.3em;box-sizing: border-box;text-align: center;}#sk-83c63e0d-911f-4232-9985-0f90baede911 label.sk-toggleable__label-arrow:before {content: \"▸\";float: left;margin-right: 0.25em;color: #696969;}#sk-83c63e0d-911f-4232-9985-0f90baede911 label.sk-toggleable__label-arrow:hover:before {color: black;}#sk-83c63e0d-911f-4232-9985-0f90baede911 div.sk-estimator:hover label.sk-toggleable__label-arrow:before {color: black;}#sk-83c63e0d-911f-4232-9985-0f90baede911 div.sk-toggleable__content {max-height: 0;max-width: 0;overflow: hidden;text-align: left;background-color: #f0f8ff;}#sk-83c63e0d-911f-4232-9985-0f90baede911 div.sk-toggleable__content pre {margin: 0.2em;color: black;border-radius: 0.25em;background-color: #f0f8ff;}#sk-83c63e0d-911f-4232-9985-0f90baede911 input.sk-toggleable__control:checked~div.sk-toggleable__content {max-height: 200px;max-width: 100%;overflow: auto;}#sk-83c63e0d-911f-4232-9985-0f90baede911 input.sk-toggleable__control:checked~label.sk-toggleable__label-arrow:before {content: \"▾\";}#sk-83c63e0d-911f-4232-9985-0f90baede911 div.sk-estimator input.sk-toggleable__control:checked~label.sk-toggleable__label {background-color: #d4ebff;}#sk-83c63e0d-911f-4232-9985-0f90baede911 div.sk-label input.sk-toggleable__control:checked~label.sk-toggleable__label {background-color: #d4ebff;}#sk-83c63e0d-911f-4232-9985-0f90baede911 input.sk-hidden--visually {border: 0;clip: rect(1px 1px 1px 1px);clip: rect(1px, 1px, 1px, 1px);height: 1px;margin: -1px;overflow: hidden;padding: 0;position: absolute;width: 1px;}#sk-83c63e0d-911f-4232-9985-0f90baede911 div.sk-estimator {font-family: monospace;background-color: #f0f8ff;border: 1px dotted black;border-radius: 0.25em;box-sizing: border-box;margin-bottom: 0.5em;}#sk-83c63e0d-911f-4232-9985-0f90baede911 div.sk-estimator:hover {background-color: #d4ebff;}#sk-83c63e0d-911f-4232-9985-0f90baede911 div.sk-parallel-item::after {content: \"\";width: 100%;border-bottom: 1px solid gray;flex-grow: 1;}#sk-83c63e0d-911f-4232-9985-0f90baede911 div.sk-label:hover label.sk-toggleable__label {background-color: #d4ebff;}#sk-83c63e0d-911f-4232-9985-0f90baede911 div.sk-serial::before {content: \"\";position: absolute;border-left: 1px solid gray;box-sizing: border-box;top: 2em;bottom: 0;left: 50%;}#sk-83c63e0d-911f-4232-9985-0f90baede911 div.sk-serial {display: flex;flex-direction: column;align-items: center;background-color: white;padding-right: 0.2em;padding-left: 0.2em;}#sk-83c63e0d-911f-4232-9985-0f90baede911 div.sk-item {z-index: 1;}#sk-83c63e0d-911f-4232-9985-0f90baede911 div.sk-parallel {display: flex;align-items: stretch;justify-content: center;background-color: white;}#sk-83c63e0d-911f-4232-9985-0f90baede911 div.sk-parallel::before {content: \"\";position: absolute;border-left: 1px solid gray;box-sizing: border-box;top: 2em;bottom: 0;left: 50%;}#sk-83c63e0d-911f-4232-9985-0f90baede911 div.sk-parallel-item {display: flex;flex-direction: column;position: relative;background-color: white;}#sk-83c63e0d-911f-4232-9985-0f90baede911 div.sk-parallel-item:first-child::after {align-self: flex-end;width: 50%;}#sk-83c63e0d-911f-4232-9985-0f90baede911 div.sk-parallel-item:last-child::after {align-self: flex-start;width: 50%;}#sk-83c63e0d-911f-4232-9985-0f90baede911 div.sk-parallel-item:only-child::after {width: 0;}#sk-83c63e0d-911f-4232-9985-0f90baede911 div.sk-dashed-wrapped {border: 1px dashed gray;margin: 0 0.4em 0.5em 0.4em;box-sizing: border-box;padding-bottom: 0.4em;background-color: white;position: relative;}#sk-83c63e0d-911f-4232-9985-0f90baede911 div.sk-label label {font-family: monospace;font-weight: bold;background-color: white;display: inline-block;line-height: 1.2em;}#sk-83c63e0d-911f-4232-9985-0f90baede911 div.sk-label-container {position: relative;z-index: 2;text-align: center;}#sk-83c63e0d-911f-4232-9985-0f90baede911 div.sk-container {/* jupyter's `normalize.less` sets `[hidden] { display: none; }` but bootstrap.min.css set `[hidden] { display: none !important; }` so we also need the `!important` here to be able to override the default hidden behavior on the sphinx rendered scikit-learn.org. See: https://github.com/scikit-learn/scikit-learn/issues/21755 */display: inline-block !important;position: relative;}#sk-83c63e0d-911f-4232-9985-0f90baede911 div.sk-text-repr-fallback {display: none;}</style><div id=\"sk-83c63e0d-911f-4232-9985-0f90baede911\" class=\"sk-top-container\"><div class=\"sk-text-repr-fallback\"><pre>GridSearchCV(cv=5, estimator=GradientBoostingRegressor(), n_jobs=-1,\n",
       "             param_grid={&#x27;learning_rate&#x27;: [0.01], &#x27;max_depth&#x27;: [4],\n",
       "                         &#x27;n_estimators&#x27;: [500], &#x27;subsample&#x27;: [0.5]},\n",
       "             scoring=&#x27;r2&#x27;)</pre><b>Please rerun this cell to show the HTML repr or trust the notebook.</b></div><div class=\"sk-container\" hidden><div class=\"sk-item sk-dashed-wrapped\"><div class=\"sk-label-container\"><div class=\"sk-label sk-toggleable\"><input class=\"sk-toggleable__control sk-hidden--visually\" id=\"c4369143-109f-4c7a-904c-b69f66c371f3\" type=\"checkbox\" ><label for=\"c4369143-109f-4c7a-904c-b69f66c371f3\" class=\"sk-toggleable__label sk-toggleable__label-arrow\">GridSearchCV</label><div class=\"sk-toggleable__content\"><pre>GridSearchCV(cv=5, estimator=GradientBoostingRegressor(), n_jobs=-1,\n",
       "             param_grid={&#x27;learning_rate&#x27;: [0.01], &#x27;max_depth&#x27;: [4],\n",
       "                         &#x27;n_estimators&#x27;: [500], &#x27;subsample&#x27;: [0.5]},\n",
       "             scoring=&#x27;r2&#x27;)</pre></div></div></div><div class=\"sk-parallel\"><div class=\"sk-parallel-item\"><div class=\"sk-item\"><div class=\"sk-serial\"><div class=\"sk-item\"><div class=\"sk-estimator sk-toggleable\"><input class=\"sk-toggleable__control sk-hidden--visually\" id=\"cd2ac098-fc38-41f1-b218-080cfb533e17\" type=\"checkbox\" ><label for=\"cd2ac098-fc38-41f1-b218-080cfb533e17\" class=\"sk-toggleable__label sk-toggleable__label-arrow\">GradientBoostingRegressor</label><div class=\"sk-toggleable__content\"><pre>GradientBoostingRegressor()</pre></div></div></div></div></div></div></div></div></div></div>"
      ],
      "text/plain": [
       "GridSearchCV(cv=5, estimator=GradientBoostingRegressor(), n_jobs=-1,\n",
       "             param_grid={'learning_rate': [0.01], 'max_depth': [4],\n",
       "                         'n_estimators': [500], 'subsample': [0.5]},\n",
       "             scoring='r2')"
      ]
     },
     "execution_count": 99,
     "metadata": {},
     "output_type": "execute_result"
    }
   ],
   "source": [
    "grid.fit(x_train, y_train)"
   ]
  },
  {
   "cell_type": "code",
   "execution_count": 100,
   "metadata": {},
   "outputs": [
    {
     "name": "stdout",
     "output_type": "stream",
     "text": [
      "Best estimator across ALL searched params:\n",
      " GradientBoostingRegressor(learning_rate=0.01, max_depth=4, n_estimators=500,\n",
      "                          subsample=0.5)\n",
      "\n",
      "Best scores across all searched params:\n",
      " 0.834662258593505\n",
      "\n",
      "Best paramenters acorss all searched params: \n",
      " {'learning_rate': 0.01, 'max_depth': 4, 'n_estimators': 500, 'subsample': 0.5}\n"
     ]
    }
   ],
   "source": [
    "print(\"Best estimator across ALL searched params:\\n\", grid.best_estimator_)\n",
    "print(\"\\nBest scores across all searched params:\\n\", grid.best_score_)\n",
    "print(\"\\nBest paramenters acorss all searched params: \\n\", grid.best_params_)"
   ]
  },
  {
   "cell_type": "code",
   "execution_count": 101,
   "metadata": {},
   "outputs": [],
   "source": [
    "best_model=grid.best_estimator_"
   ]
  },
  {
   "cell_type": "code",
   "execution_count": 102,
   "metadata": {},
   "outputs": [
    {
     "data": {
      "text/plain": [
       "{'alpha': 0.9,\n",
       " 'ccp_alpha': 0.0,\n",
       " 'criterion': 'friedman_mse',\n",
       " 'init': None,\n",
       " 'learning_rate': 0.01,\n",
       " 'loss': 'squared_error',\n",
       " 'max_depth': 4,\n",
       " 'max_features': None,\n",
       " 'max_leaf_nodes': None,\n",
       " 'min_impurity_decrease': 0.0,\n",
       " 'min_samples_leaf': 1,\n",
       " 'min_samples_split': 2,\n",
       " 'min_weight_fraction_leaf': 0.0,\n",
       " 'n_estimators': 500,\n",
       " 'n_iter_no_change': None,\n",
       " 'random_state': None,\n",
       " 'subsample': 0.5,\n",
       " 'tol': 0.0001,\n",
       " 'validation_fraction': 0.1,\n",
       " 'verbose': 0,\n",
       " 'warm_start': False}"
      ]
     },
     "execution_count": 102,
     "metadata": {},
     "output_type": "execute_result"
    }
   ],
   "source": [
    "best_model.get_params()"
   ]
  },
  {
   "cell_type": "code",
   "execution_count": 103,
   "metadata": {},
   "outputs": [],
   "source": [
    "gbrtuned=GradientBoostingRegressor(alpha= 0.9,\n",
    " ccp_alpha= 0.0,\n",
    " criterion= 'friedman_mse',\n",
    " init= None,\n",
    " learning_rate= 0.01,\n",
    " loss= 'squared_error',\n",
    " max_depth = 4,\n",
    " max_features= \"sqrt\",\n",
    " max_leaf_nodes= None,\n",
    " min_impurity_decrease= 0.0,\n",
    " min_samples_leaf= 1,\n",
    " min_samples_split= 2,\n",
    " min_weight_fraction_leaf= 0.0,\n",
    " n_estimators= 500,\n",
    " n_iter_no_change= None,\n",
    " random_state= None,\n",
    " subsample= 1,\n",
    " tol= 0.0001,\n",
    " validation_fraction= 0.1,\n",
    " verbose= 0,\n",
    " warm_start= False\n",
    "\n",
    ")"
   ]
  },
  {
   "cell_type": "code",
   "execution_count": 104,
   "metadata": {},
   "outputs": [
    {
     "data": {
      "text/html": [
       "<style>#sk-62ae16c8-2cc0-4350-994f-fd9f8a184ab8 {color: black;background-color: white;}#sk-62ae16c8-2cc0-4350-994f-fd9f8a184ab8 pre{padding: 0;}#sk-62ae16c8-2cc0-4350-994f-fd9f8a184ab8 div.sk-toggleable {background-color: white;}#sk-62ae16c8-2cc0-4350-994f-fd9f8a184ab8 label.sk-toggleable__label {cursor: pointer;display: block;width: 100%;margin-bottom: 0;padding: 0.3em;box-sizing: border-box;text-align: center;}#sk-62ae16c8-2cc0-4350-994f-fd9f8a184ab8 label.sk-toggleable__label-arrow:before {content: \"▸\";float: left;margin-right: 0.25em;color: #696969;}#sk-62ae16c8-2cc0-4350-994f-fd9f8a184ab8 label.sk-toggleable__label-arrow:hover:before {color: black;}#sk-62ae16c8-2cc0-4350-994f-fd9f8a184ab8 div.sk-estimator:hover label.sk-toggleable__label-arrow:before {color: black;}#sk-62ae16c8-2cc0-4350-994f-fd9f8a184ab8 div.sk-toggleable__content {max-height: 0;max-width: 0;overflow: hidden;text-align: left;background-color: #f0f8ff;}#sk-62ae16c8-2cc0-4350-994f-fd9f8a184ab8 div.sk-toggleable__content pre {margin: 0.2em;color: black;border-radius: 0.25em;background-color: #f0f8ff;}#sk-62ae16c8-2cc0-4350-994f-fd9f8a184ab8 input.sk-toggleable__control:checked~div.sk-toggleable__content {max-height: 200px;max-width: 100%;overflow: auto;}#sk-62ae16c8-2cc0-4350-994f-fd9f8a184ab8 input.sk-toggleable__control:checked~label.sk-toggleable__label-arrow:before {content: \"▾\";}#sk-62ae16c8-2cc0-4350-994f-fd9f8a184ab8 div.sk-estimator input.sk-toggleable__control:checked~label.sk-toggleable__label {background-color: #d4ebff;}#sk-62ae16c8-2cc0-4350-994f-fd9f8a184ab8 div.sk-label input.sk-toggleable__control:checked~label.sk-toggleable__label {background-color: #d4ebff;}#sk-62ae16c8-2cc0-4350-994f-fd9f8a184ab8 input.sk-hidden--visually {border: 0;clip: rect(1px 1px 1px 1px);clip: rect(1px, 1px, 1px, 1px);height: 1px;margin: -1px;overflow: hidden;padding: 0;position: absolute;width: 1px;}#sk-62ae16c8-2cc0-4350-994f-fd9f8a184ab8 div.sk-estimator {font-family: monospace;background-color: #f0f8ff;border: 1px dotted black;border-radius: 0.25em;box-sizing: border-box;margin-bottom: 0.5em;}#sk-62ae16c8-2cc0-4350-994f-fd9f8a184ab8 div.sk-estimator:hover {background-color: #d4ebff;}#sk-62ae16c8-2cc0-4350-994f-fd9f8a184ab8 div.sk-parallel-item::after {content: \"\";width: 100%;border-bottom: 1px solid gray;flex-grow: 1;}#sk-62ae16c8-2cc0-4350-994f-fd9f8a184ab8 div.sk-label:hover label.sk-toggleable__label {background-color: #d4ebff;}#sk-62ae16c8-2cc0-4350-994f-fd9f8a184ab8 div.sk-serial::before {content: \"\";position: absolute;border-left: 1px solid gray;box-sizing: border-box;top: 2em;bottom: 0;left: 50%;}#sk-62ae16c8-2cc0-4350-994f-fd9f8a184ab8 div.sk-serial {display: flex;flex-direction: column;align-items: center;background-color: white;padding-right: 0.2em;padding-left: 0.2em;}#sk-62ae16c8-2cc0-4350-994f-fd9f8a184ab8 div.sk-item {z-index: 1;}#sk-62ae16c8-2cc0-4350-994f-fd9f8a184ab8 div.sk-parallel {display: flex;align-items: stretch;justify-content: center;background-color: white;}#sk-62ae16c8-2cc0-4350-994f-fd9f8a184ab8 div.sk-parallel::before {content: \"\";position: absolute;border-left: 1px solid gray;box-sizing: border-box;top: 2em;bottom: 0;left: 50%;}#sk-62ae16c8-2cc0-4350-994f-fd9f8a184ab8 div.sk-parallel-item {display: flex;flex-direction: column;position: relative;background-color: white;}#sk-62ae16c8-2cc0-4350-994f-fd9f8a184ab8 div.sk-parallel-item:first-child::after {align-self: flex-end;width: 50%;}#sk-62ae16c8-2cc0-4350-994f-fd9f8a184ab8 div.sk-parallel-item:last-child::after {align-self: flex-start;width: 50%;}#sk-62ae16c8-2cc0-4350-994f-fd9f8a184ab8 div.sk-parallel-item:only-child::after {width: 0;}#sk-62ae16c8-2cc0-4350-994f-fd9f8a184ab8 div.sk-dashed-wrapped {border: 1px dashed gray;margin: 0 0.4em 0.5em 0.4em;box-sizing: border-box;padding-bottom: 0.4em;background-color: white;position: relative;}#sk-62ae16c8-2cc0-4350-994f-fd9f8a184ab8 div.sk-label label {font-family: monospace;font-weight: bold;background-color: white;display: inline-block;line-height: 1.2em;}#sk-62ae16c8-2cc0-4350-994f-fd9f8a184ab8 div.sk-label-container {position: relative;z-index: 2;text-align: center;}#sk-62ae16c8-2cc0-4350-994f-fd9f8a184ab8 div.sk-container {/* jupyter's `normalize.less` sets `[hidden] { display: none; }` but bootstrap.min.css set `[hidden] { display: none !important; }` so we also need the `!important` here to be able to override the default hidden behavior on the sphinx rendered scikit-learn.org. See: https://github.com/scikit-learn/scikit-learn/issues/21755 */display: inline-block !important;position: relative;}#sk-62ae16c8-2cc0-4350-994f-fd9f8a184ab8 div.sk-text-repr-fallback {display: none;}</style><div id=\"sk-62ae16c8-2cc0-4350-994f-fd9f8a184ab8\" class=\"sk-top-container\"><div class=\"sk-text-repr-fallback\"><pre>GradientBoostingRegressor(learning_rate=0.01, max_depth=4, max_features=&#x27;sqrt&#x27;,\n",
       "                          n_estimators=500, subsample=1)</pre><b>Please rerun this cell to show the HTML repr or trust the notebook.</b></div><div class=\"sk-container\" hidden><div class=\"sk-item\"><div class=\"sk-estimator sk-toggleable\"><input class=\"sk-toggleable__control sk-hidden--visually\" id=\"5eafdbd8-3dd9-44e7-811f-82afa923cabe\" type=\"checkbox\" checked><label for=\"5eafdbd8-3dd9-44e7-811f-82afa923cabe\" class=\"sk-toggleable__label sk-toggleable__label-arrow\">GradientBoostingRegressor</label><div class=\"sk-toggleable__content\"><pre>GradientBoostingRegressor(learning_rate=0.01, max_depth=4, max_features=&#x27;sqrt&#x27;,\n",
       "                          n_estimators=500, subsample=1)</pre></div></div></div></div></div>"
      ],
      "text/plain": [
       "GradientBoostingRegressor(learning_rate=0.01, max_depth=4, max_features='sqrt',\n",
       "                          n_estimators=500, subsample=1)"
      ]
     },
     "execution_count": 104,
     "metadata": {},
     "output_type": "execute_result"
    }
   ],
   "source": [
    "gbrtuned.fit(x_train, y_train)"
   ]
  },
  {
   "cell_type": "code",
   "execution_count": 105,
   "metadata": {},
   "outputs": [
    {
     "name": "stdout",
     "output_type": "stream",
     "text": [
      "R2: 0.8755637051146811\n",
      "MAE: 0.2057659468981234\n",
      "MSE: 0.12885060708091156\n",
      "RMSE: 0.3589576675332504\n"
     ]
    }
   ],
   "source": [
    "evaluation(gbrtuned, x_test, y_test)"
   ]
  },
  {
   "cell_type": "markdown",
   "metadata": {},
   "source": [
    "# Comparando com os modelos que tiveram normalizacao dos dados"
   ]
  },
  {
   "cell_type": "code",
   "execution_count": 106,
   "metadata": {},
   "outputs": [],
   "source": [
    "X=df.drop(columns=\"custos_seguro\")\n",
    "Y=df[\"custos_seguro\"]"
   ]
  },
  {
   "cell_type": "code",
   "execution_count": 107,
   "metadata": {},
   "outputs": [],
   "source": [
    "X_train, X_test, Y_train, Y_test=tts(X, Y, test_size=0.3, random_state=42)"
   ]
  },
  {
   "cell_type": "code",
   "execution_count": 108,
   "metadata": {},
   "outputs": [
    {
     "name": "stdout",
     "output_type": "stream",
     "text": [
      "R2: 0.7103344346213061\n",
      "MAE: 2919.000177833334\n",
      "MSE: 42472013.04441173\n",
      "RMSE: 6517.055550201466\n"
     ]
    }
   ],
   "source": [
    "treeD=DecisionTreeRegressor()\n",
    "treeD.fit(X_train, Y_train)\n",
    "evaluation(treeD, X_test, Y_test)"
   ]
  },
  {
   "cell_type": "code",
   "execution_count": 109,
   "metadata": {},
   "outputs": [
    {
     "name": "stdout",
     "output_type": "stream",
     "text": [
      "R2: 0.8286317947575557\n",
      "MAE: 3948.7906285999456\n",
      "MSE: 25126744.488731958\n",
      "RMSE: 5012.658425300088\n"
     ]
    }
   ],
   "source": [
    "adaD=AdaBoostRegressor()\n",
    "adaD.fit(X_train, Y_train)\n",
    "\n",
    "evaluation(adaD, X_test, Y_test)"
   ]
  },
  {
   "cell_type": "code",
   "execution_count": 110,
   "metadata": {},
   "outputs": [
    {
     "name": "stdout",
     "output_type": "stream",
     "text": [
      "R2: 0.8522209961570437\n",
      "MAE: 2530.8269551544786\n",
      "MSE: 21667994.159756865\n",
      "RMSE: 4654.889274704272\n"
     ]
    }
   ],
   "source": [
    "rfD=RandomForestRegressor()\n",
    "rfD.fit(X_train, Y_train)\n",
    "\n",
    "evaluation(rfD, X_test, Y_test)"
   ]
  },
  {
   "cell_type": "code",
   "execution_count": 111,
   "metadata": {},
   "outputs": [
    {
     "name": "stdout",
     "output_type": "stream",
     "text": [
      "R2: 0.8693065097319579\n",
      "MAE: 2429.418533685369\n",
      "MSE: 19162842.55681938\n",
      "RMSE: 4377.538412946182\n"
     ]
    }
   ],
   "source": [
    "gbrD=GradientBoostingRegressor()\n",
    "gbrD.fit(X_train, Y_train)\n",
    "\n",
    "evaluation(gbrD, X_test, Y_test)"
   ]
  },
  {
   "cell_type": "code",
   "execution_count": 112,
   "metadata": {},
   "outputs": [
    {
     "name": "stdout",
     "output_type": "stream",
     "text": [
      "R2: 0.8203838324643942\n",
      "MAE: 2844.553801996077\n",
      "MSE: 26336096.25150361\n",
      "RMSE: 5131.870638617424\n"
     ]
    }
   ],
   "source": [
    "xgbrD=XGBRegressor()\n",
    "xgbrD.fit(X_train, Y_train)\n",
    "\n",
    "\n",
    "evaluation(xgbrD, X_test, Y_test)"
   ]
  },
  {
   "cell_type": "markdown",
   "metadata": {},
   "source": [
    "# Utilizando o  Voting regressor para criar um modelo hibrido"
   ]
  },
  {
   "cell_type": "code",
   "execution_count": 113,
   "metadata": {},
   "outputs": [
    {
     "name": "stdout",
     "output_type": "stream",
     "text": [
      "R2: 0.8564357536750253\n",
      "MAE: 2475.8462712185074\n",
      "MSE: 21050008.255741253\n",
      "RMSE: 4588.028798486475\n"
     ]
    }
   ],
   "source": [
    "votingD=VotingRegressor([(\"xgbrD\",xgbrD),(\"rfD\", rfD) ,(\"gbrD\", gbrD) ])\n",
    "votingD.fit(X_train, Y_train)\n",
    "\n",
    "evaluation(votingD, X_test, Y_test)"
   ]
  },
  {
   "cell_type": "markdown",
   "metadata": {},
   "source": [
    "# Melhor modelo foi o Gradientboost, nessa fase vamos trabalhar os hiperparamentros para tentar melhorar o modelo"
   ]
  },
  {
   "cell_type": "code",
   "execution_count": 114,
   "metadata": {},
   "outputs": [],
   "source": [
    "#passando parametros para treino\n",
    "parameters= {'learning_rate': [0.01], \n",
    "        'max_depth': [4], \n",
    "        'n_estimators': [500],\n",
    "          'subsample': [0.5]\n",
    "          }"
   ]
  },
  {
   "cell_type": "code",
   "execution_count": 115,
   "metadata": {},
   "outputs": [],
   "source": [
    "#instanciando o modelo gradientboostregressor e atribundo a variavel gbrtuned\n",
    "gbrtuneD=GradientBoostingRegressor()"
   ]
  },
  {
   "cell_type": "code",
   "execution_count": 116,
   "metadata": {},
   "outputs": [],
   "source": [
    "#treinando o modelo GRIDSEARCHCV\n",
    "griD=GridSearchCV(estimator=gbrtuned, param_grid=parameters, cv=5, n_jobs=-1,scoring=\"r2\")\n",
    "\n"
   ]
  },
  {
   "cell_type": "code",
   "execution_count": 117,
   "metadata": {},
   "outputs": [
    {
     "data": {
      "text/html": [
       "<style>#sk-c5b5ec9c-cd32-4f38-86df-ae13b246fbb2 {color: black;background-color: white;}#sk-c5b5ec9c-cd32-4f38-86df-ae13b246fbb2 pre{padding: 0;}#sk-c5b5ec9c-cd32-4f38-86df-ae13b246fbb2 div.sk-toggleable {background-color: white;}#sk-c5b5ec9c-cd32-4f38-86df-ae13b246fbb2 label.sk-toggleable__label {cursor: pointer;display: block;width: 100%;margin-bottom: 0;padding: 0.3em;box-sizing: border-box;text-align: center;}#sk-c5b5ec9c-cd32-4f38-86df-ae13b246fbb2 label.sk-toggleable__label-arrow:before {content: \"▸\";float: left;margin-right: 0.25em;color: #696969;}#sk-c5b5ec9c-cd32-4f38-86df-ae13b246fbb2 label.sk-toggleable__label-arrow:hover:before {color: black;}#sk-c5b5ec9c-cd32-4f38-86df-ae13b246fbb2 div.sk-estimator:hover label.sk-toggleable__label-arrow:before {color: black;}#sk-c5b5ec9c-cd32-4f38-86df-ae13b246fbb2 div.sk-toggleable__content {max-height: 0;max-width: 0;overflow: hidden;text-align: left;background-color: #f0f8ff;}#sk-c5b5ec9c-cd32-4f38-86df-ae13b246fbb2 div.sk-toggleable__content pre {margin: 0.2em;color: black;border-radius: 0.25em;background-color: #f0f8ff;}#sk-c5b5ec9c-cd32-4f38-86df-ae13b246fbb2 input.sk-toggleable__control:checked~div.sk-toggleable__content {max-height: 200px;max-width: 100%;overflow: auto;}#sk-c5b5ec9c-cd32-4f38-86df-ae13b246fbb2 input.sk-toggleable__control:checked~label.sk-toggleable__label-arrow:before {content: \"▾\";}#sk-c5b5ec9c-cd32-4f38-86df-ae13b246fbb2 div.sk-estimator input.sk-toggleable__control:checked~label.sk-toggleable__label {background-color: #d4ebff;}#sk-c5b5ec9c-cd32-4f38-86df-ae13b246fbb2 div.sk-label input.sk-toggleable__control:checked~label.sk-toggleable__label {background-color: #d4ebff;}#sk-c5b5ec9c-cd32-4f38-86df-ae13b246fbb2 input.sk-hidden--visually {border: 0;clip: rect(1px 1px 1px 1px);clip: rect(1px, 1px, 1px, 1px);height: 1px;margin: -1px;overflow: hidden;padding: 0;position: absolute;width: 1px;}#sk-c5b5ec9c-cd32-4f38-86df-ae13b246fbb2 div.sk-estimator {font-family: monospace;background-color: #f0f8ff;border: 1px dotted black;border-radius: 0.25em;box-sizing: border-box;margin-bottom: 0.5em;}#sk-c5b5ec9c-cd32-4f38-86df-ae13b246fbb2 div.sk-estimator:hover {background-color: #d4ebff;}#sk-c5b5ec9c-cd32-4f38-86df-ae13b246fbb2 div.sk-parallel-item::after {content: \"\";width: 100%;border-bottom: 1px solid gray;flex-grow: 1;}#sk-c5b5ec9c-cd32-4f38-86df-ae13b246fbb2 div.sk-label:hover label.sk-toggleable__label {background-color: #d4ebff;}#sk-c5b5ec9c-cd32-4f38-86df-ae13b246fbb2 div.sk-serial::before {content: \"\";position: absolute;border-left: 1px solid gray;box-sizing: border-box;top: 2em;bottom: 0;left: 50%;}#sk-c5b5ec9c-cd32-4f38-86df-ae13b246fbb2 div.sk-serial {display: flex;flex-direction: column;align-items: center;background-color: white;padding-right: 0.2em;padding-left: 0.2em;}#sk-c5b5ec9c-cd32-4f38-86df-ae13b246fbb2 div.sk-item {z-index: 1;}#sk-c5b5ec9c-cd32-4f38-86df-ae13b246fbb2 div.sk-parallel {display: flex;align-items: stretch;justify-content: center;background-color: white;}#sk-c5b5ec9c-cd32-4f38-86df-ae13b246fbb2 div.sk-parallel::before {content: \"\";position: absolute;border-left: 1px solid gray;box-sizing: border-box;top: 2em;bottom: 0;left: 50%;}#sk-c5b5ec9c-cd32-4f38-86df-ae13b246fbb2 div.sk-parallel-item {display: flex;flex-direction: column;position: relative;background-color: white;}#sk-c5b5ec9c-cd32-4f38-86df-ae13b246fbb2 div.sk-parallel-item:first-child::after {align-self: flex-end;width: 50%;}#sk-c5b5ec9c-cd32-4f38-86df-ae13b246fbb2 div.sk-parallel-item:last-child::after {align-self: flex-start;width: 50%;}#sk-c5b5ec9c-cd32-4f38-86df-ae13b246fbb2 div.sk-parallel-item:only-child::after {width: 0;}#sk-c5b5ec9c-cd32-4f38-86df-ae13b246fbb2 div.sk-dashed-wrapped {border: 1px dashed gray;margin: 0 0.4em 0.5em 0.4em;box-sizing: border-box;padding-bottom: 0.4em;background-color: white;position: relative;}#sk-c5b5ec9c-cd32-4f38-86df-ae13b246fbb2 div.sk-label label {font-family: monospace;font-weight: bold;background-color: white;display: inline-block;line-height: 1.2em;}#sk-c5b5ec9c-cd32-4f38-86df-ae13b246fbb2 div.sk-label-container {position: relative;z-index: 2;text-align: center;}#sk-c5b5ec9c-cd32-4f38-86df-ae13b246fbb2 div.sk-container {/* jupyter's `normalize.less` sets `[hidden] { display: none; }` but bootstrap.min.css set `[hidden] { display: none !important; }` so we also need the `!important` here to be able to override the default hidden behavior on the sphinx rendered scikit-learn.org. See: https://github.com/scikit-learn/scikit-learn/issues/21755 */display: inline-block !important;position: relative;}#sk-c5b5ec9c-cd32-4f38-86df-ae13b246fbb2 div.sk-text-repr-fallback {display: none;}</style><div id=\"sk-c5b5ec9c-cd32-4f38-86df-ae13b246fbb2\" class=\"sk-top-container\"><div class=\"sk-text-repr-fallback\"><pre>GridSearchCV(cv=5,\n",
       "             estimator=GradientBoostingRegressor(learning_rate=0.01,\n",
       "                                                 max_depth=4,\n",
       "                                                 max_features=&#x27;sqrt&#x27;,\n",
       "                                                 n_estimators=500,\n",
       "                                                 subsample=1),\n",
       "             n_jobs=-1,\n",
       "             param_grid={&#x27;learning_rate&#x27;: [0.01], &#x27;max_depth&#x27;: [4],\n",
       "                         &#x27;n_estimators&#x27;: [500], &#x27;subsample&#x27;: [0.5]},\n",
       "             scoring=&#x27;r2&#x27;)</pre><b>Please rerun this cell to show the HTML repr or trust the notebook.</b></div><div class=\"sk-container\" hidden><div class=\"sk-item sk-dashed-wrapped\"><div class=\"sk-label-container\"><div class=\"sk-label sk-toggleable\"><input class=\"sk-toggleable__control sk-hidden--visually\" id=\"dfaf1418-460d-48c3-a12e-fdf90ebf73c9\" type=\"checkbox\" ><label for=\"dfaf1418-460d-48c3-a12e-fdf90ebf73c9\" class=\"sk-toggleable__label sk-toggleable__label-arrow\">GridSearchCV</label><div class=\"sk-toggleable__content\"><pre>GridSearchCV(cv=5,\n",
       "             estimator=GradientBoostingRegressor(learning_rate=0.01,\n",
       "                                                 max_depth=4,\n",
       "                                                 max_features=&#x27;sqrt&#x27;,\n",
       "                                                 n_estimators=500,\n",
       "                                                 subsample=1),\n",
       "             n_jobs=-1,\n",
       "             param_grid={&#x27;learning_rate&#x27;: [0.01], &#x27;max_depth&#x27;: [4],\n",
       "                         &#x27;n_estimators&#x27;: [500], &#x27;subsample&#x27;: [0.5]},\n",
       "             scoring=&#x27;r2&#x27;)</pre></div></div></div><div class=\"sk-parallel\"><div class=\"sk-parallel-item\"><div class=\"sk-item\"><div class=\"sk-serial\"><div class=\"sk-item\"><div class=\"sk-estimator sk-toggleable\"><input class=\"sk-toggleable__control sk-hidden--visually\" id=\"e058679e-f8ad-494c-b36c-5acca2bad3e9\" type=\"checkbox\" ><label for=\"e058679e-f8ad-494c-b36c-5acca2bad3e9\" class=\"sk-toggleable__label sk-toggleable__label-arrow\">GradientBoostingRegressor</label><div class=\"sk-toggleable__content\"><pre>GradientBoostingRegressor(learning_rate=0.01, max_depth=4, max_features=&#x27;sqrt&#x27;,\n",
       "                          n_estimators=500, subsample=1)</pre></div></div></div></div></div></div></div></div></div></div>"
      ],
      "text/plain": [
       "GridSearchCV(cv=5,\n",
       "             estimator=GradientBoostingRegressor(learning_rate=0.01,\n",
       "                                                 max_depth=4,\n",
       "                                                 max_features='sqrt',\n",
       "                                                 n_estimators=500,\n",
       "                                                 subsample=1),\n",
       "             n_jobs=-1,\n",
       "             param_grid={'learning_rate': [0.01], 'max_depth': [4],\n",
       "                         'n_estimators': [500], 'subsample': [0.5]},\n",
       "             scoring='r2')"
      ]
     },
     "execution_count": 117,
     "metadata": {},
     "output_type": "execute_result"
    }
   ],
   "source": [
    "griD.fit(X_train, Y_train)"
   ]
  },
  {
   "cell_type": "code",
   "execution_count": 118,
   "metadata": {},
   "outputs": [
    {
     "name": "stdout",
     "output_type": "stream",
     "text": [
      "Best estimator across ALL searched params:\n",
      " GradientBoostingRegressor(learning_rate=0.01, max_depth=4, max_features='sqrt',\n",
      "                          n_estimators=500, subsample=0.5)\n",
      "\n",
      "Best scores across all searched params:\n",
      " 0.8391769840748964\n",
      "\n",
      "Best paramenters acorss all searched params: \n",
      " {'learning_rate': 0.01, 'max_depth': 4, 'n_estimators': 500, 'subsample': 0.5}\n"
     ]
    }
   ],
   "source": [
    "print(\"Best estimator across ALL searched params:\\n\", griD.best_estimator_)\n",
    "print(\"\\nBest scores across all searched params:\\n\", griD.best_score_)\n",
    "print(\"\\nBest paramenters acorss all searched params: \\n\", griD.best_params_)"
   ]
  },
  {
   "cell_type": "code",
   "execution_count": 119,
   "metadata": {},
   "outputs": [],
   "source": [
    "best_moDel=griD.best_estimator_"
   ]
  },
  {
   "cell_type": "code",
   "execution_count": 120,
   "metadata": {},
   "outputs": [
    {
     "data": {
      "text/plain": [
       "{'alpha': 0.9,\n",
       " 'ccp_alpha': 0.0,\n",
       " 'criterion': 'friedman_mse',\n",
       " 'init': None,\n",
       " 'learning_rate': 0.01,\n",
       " 'loss': 'squared_error',\n",
       " 'max_depth': 4,\n",
       " 'max_features': 'sqrt',\n",
       " 'max_leaf_nodes': None,\n",
       " 'min_impurity_decrease': 0.0,\n",
       " 'min_samples_leaf': 1,\n",
       " 'min_samples_split': 2,\n",
       " 'min_weight_fraction_leaf': 0.0,\n",
       " 'n_estimators': 500,\n",
       " 'n_iter_no_change': None,\n",
       " 'random_state': None,\n",
       " 'subsample': 0.5,\n",
       " 'tol': 0.0001,\n",
       " 'validation_fraction': 0.1,\n",
       " 'verbose': 0,\n",
       " 'warm_start': False}"
      ]
     },
     "execution_count": 120,
     "metadata": {},
     "output_type": "execute_result"
    }
   ],
   "source": [
    "best_moDel.get_params()"
   ]
  },
  {
   "cell_type": "code",
   "execution_count": 121,
   "metadata": {},
   "outputs": [],
   "source": [
    "gbrtuneD=GradientBoostingRegressor(alpha= 0.9,\n",
    " ccp_alpha= 0.0,\n",
    " criterion= 'friedman_mse',\n",
    " init= None,\n",
    " learning_rate= 0.01,\n",
    " loss= 'squared_error',\n",
    " max_depth = 4,\n",
    " max_features= \"sqrt\",\n",
    " max_leaf_nodes= None,\n",
    " min_impurity_decrease= 0.0,\n",
    " min_samples_leaf= 1,\n",
    " min_samples_split= 2,\n",
    " min_weight_fraction_leaf= 0.0,\n",
    " n_estimators= 500,\n",
    " n_iter_no_change= None,\n",
    " random_state= None,\n",
    " subsample= 1,\n",
    " tol= 0.0001,\n",
    " validation_fraction= 0.1,\n",
    " verbose= 0,\n",
    " warm_start= False\n",
    "\n",
    ")"
   ]
  },
  {
   "cell_type": "code",
   "execution_count": 122,
   "metadata": {},
   "outputs": [
    {
     "data": {
      "text/html": [
       "<style>#sk-dc24f844-ece0-4ef4-83ea-11bcdd11d1d1 {color: black;background-color: white;}#sk-dc24f844-ece0-4ef4-83ea-11bcdd11d1d1 pre{padding: 0;}#sk-dc24f844-ece0-4ef4-83ea-11bcdd11d1d1 div.sk-toggleable {background-color: white;}#sk-dc24f844-ece0-4ef4-83ea-11bcdd11d1d1 label.sk-toggleable__label {cursor: pointer;display: block;width: 100%;margin-bottom: 0;padding: 0.3em;box-sizing: border-box;text-align: center;}#sk-dc24f844-ece0-4ef4-83ea-11bcdd11d1d1 label.sk-toggleable__label-arrow:before {content: \"▸\";float: left;margin-right: 0.25em;color: #696969;}#sk-dc24f844-ece0-4ef4-83ea-11bcdd11d1d1 label.sk-toggleable__label-arrow:hover:before {color: black;}#sk-dc24f844-ece0-4ef4-83ea-11bcdd11d1d1 div.sk-estimator:hover label.sk-toggleable__label-arrow:before {color: black;}#sk-dc24f844-ece0-4ef4-83ea-11bcdd11d1d1 div.sk-toggleable__content {max-height: 0;max-width: 0;overflow: hidden;text-align: left;background-color: #f0f8ff;}#sk-dc24f844-ece0-4ef4-83ea-11bcdd11d1d1 div.sk-toggleable__content pre {margin: 0.2em;color: black;border-radius: 0.25em;background-color: #f0f8ff;}#sk-dc24f844-ece0-4ef4-83ea-11bcdd11d1d1 input.sk-toggleable__control:checked~div.sk-toggleable__content {max-height: 200px;max-width: 100%;overflow: auto;}#sk-dc24f844-ece0-4ef4-83ea-11bcdd11d1d1 input.sk-toggleable__control:checked~label.sk-toggleable__label-arrow:before {content: \"▾\";}#sk-dc24f844-ece0-4ef4-83ea-11bcdd11d1d1 div.sk-estimator input.sk-toggleable__control:checked~label.sk-toggleable__label {background-color: #d4ebff;}#sk-dc24f844-ece0-4ef4-83ea-11bcdd11d1d1 div.sk-label input.sk-toggleable__control:checked~label.sk-toggleable__label {background-color: #d4ebff;}#sk-dc24f844-ece0-4ef4-83ea-11bcdd11d1d1 input.sk-hidden--visually {border: 0;clip: rect(1px 1px 1px 1px);clip: rect(1px, 1px, 1px, 1px);height: 1px;margin: -1px;overflow: hidden;padding: 0;position: absolute;width: 1px;}#sk-dc24f844-ece0-4ef4-83ea-11bcdd11d1d1 div.sk-estimator {font-family: monospace;background-color: #f0f8ff;border: 1px dotted black;border-radius: 0.25em;box-sizing: border-box;margin-bottom: 0.5em;}#sk-dc24f844-ece0-4ef4-83ea-11bcdd11d1d1 div.sk-estimator:hover {background-color: #d4ebff;}#sk-dc24f844-ece0-4ef4-83ea-11bcdd11d1d1 div.sk-parallel-item::after {content: \"\";width: 100%;border-bottom: 1px solid gray;flex-grow: 1;}#sk-dc24f844-ece0-4ef4-83ea-11bcdd11d1d1 div.sk-label:hover label.sk-toggleable__label {background-color: #d4ebff;}#sk-dc24f844-ece0-4ef4-83ea-11bcdd11d1d1 div.sk-serial::before {content: \"\";position: absolute;border-left: 1px solid gray;box-sizing: border-box;top: 2em;bottom: 0;left: 50%;}#sk-dc24f844-ece0-4ef4-83ea-11bcdd11d1d1 div.sk-serial {display: flex;flex-direction: column;align-items: center;background-color: white;padding-right: 0.2em;padding-left: 0.2em;}#sk-dc24f844-ece0-4ef4-83ea-11bcdd11d1d1 div.sk-item {z-index: 1;}#sk-dc24f844-ece0-4ef4-83ea-11bcdd11d1d1 div.sk-parallel {display: flex;align-items: stretch;justify-content: center;background-color: white;}#sk-dc24f844-ece0-4ef4-83ea-11bcdd11d1d1 div.sk-parallel::before {content: \"\";position: absolute;border-left: 1px solid gray;box-sizing: border-box;top: 2em;bottom: 0;left: 50%;}#sk-dc24f844-ece0-4ef4-83ea-11bcdd11d1d1 div.sk-parallel-item {display: flex;flex-direction: column;position: relative;background-color: white;}#sk-dc24f844-ece0-4ef4-83ea-11bcdd11d1d1 div.sk-parallel-item:first-child::after {align-self: flex-end;width: 50%;}#sk-dc24f844-ece0-4ef4-83ea-11bcdd11d1d1 div.sk-parallel-item:last-child::after {align-self: flex-start;width: 50%;}#sk-dc24f844-ece0-4ef4-83ea-11bcdd11d1d1 div.sk-parallel-item:only-child::after {width: 0;}#sk-dc24f844-ece0-4ef4-83ea-11bcdd11d1d1 div.sk-dashed-wrapped {border: 1px dashed gray;margin: 0 0.4em 0.5em 0.4em;box-sizing: border-box;padding-bottom: 0.4em;background-color: white;position: relative;}#sk-dc24f844-ece0-4ef4-83ea-11bcdd11d1d1 div.sk-label label {font-family: monospace;font-weight: bold;background-color: white;display: inline-block;line-height: 1.2em;}#sk-dc24f844-ece0-4ef4-83ea-11bcdd11d1d1 div.sk-label-container {position: relative;z-index: 2;text-align: center;}#sk-dc24f844-ece0-4ef4-83ea-11bcdd11d1d1 div.sk-container {/* jupyter's `normalize.less` sets `[hidden] { display: none; }` but bootstrap.min.css set `[hidden] { display: none !important; }` so we also need the `!important` here to be able to override the default hidden behavior on the sphinx rendered scikit-learn.org. See: https://github.com/scikit-learn/scikit-learn/issues/21755 */display: inline-block !important;position: relative;}#sk-dc24f844-ece0-4ef4-83ea-11bcdd11d1d1 div.sk-text-repr-fallback {display: none;}</style><div id=\"sk-dc24f844-ece0-4ef4-83ea-11bcdd11d1d1\" class=\"sk-top-container\"><div class=\"sk-text-repr-fallback\"><pre>GradientBoostingRegressor(learning_rate=0.01, max_depth=4, max_features=&#x27;sqrt&#x27;,\n",
       "                          n_estimators=500, subsample=1)</pre><b>Please rerun this cell to show the HTML repr or trust the notebook.</b></div><div class=\"sk-container\" hidden><div class=\"sk-item\"><div class=\"sk-estimator sk-toggleable\"><input class=\"sk-toggleable__control sk-hidden--visually\" id=\"3840d3a7-5051-4162-a7de-b1c80d5129f0\" type=\"checkbox\" checked><label for=\"3840d3a7-5051-4162-a7de-b1c80d5129f0\" class=\"sk-toggleable__label sk-toggleable__label-arrow\">GradientBoostingRegressor</label><div class=\"sk-toggleable__content\"><pre>GradientBoostingRegressor(learning_rate=0.01, max_depth=4, max_features=&#x27;sqrt&#x27;,\n",
       "                          n_estimators=500, subsample=1)</pre></div></div></div></div></div>"
      ],
      "text/plain": [
       "GradientBoostingRegressor(learning_rate=0.01, max_depth=4, max_features='sqrt',\n",
       "                          n_estimators=500, subsample=1)"
      ]
     },
     "execution_count": 122,
     "metadata": {},
     "output_type": "execute_result"
    }
   ],
   "source": [
    "gbrtuneD.fit(X_train, Y_train)"
   ]
  },
  {
   "cell_type": "code",
   "execution_count": 123,
   "metadata": {},
   "outputs": [
    {
     "name": "stdout",
     "output_type": "stream",
     "text": [
      "R2: 0.8753371542022428\n",
      "MAE: 2486.964003185491\n",
      "MSE: 18278603.48520832\n",
      "RMSE: 4275.348346650635\n"
     ]
    }
   ],
   "source": [
    "evaluation(gbrtuneD, X_test, Y_test)"
   ]
  },
  {
   "cell_type": "markdown",
   "metadata": {},
   "source": [
    "# Salvando modelo treinado para futuro deploy"
   ]
  },
  {
   "cell_type": "code",
   "execution_count": 124,
   "metadata": {},
   "outputs": [
    {
     "data": {
      "text/plain": [
       "['gradientboosttuned.joblib']"
      ]
     },
     "execution_count": 124,
     "metadata": {},
     "output_type": "execute_result"
    }
   ],
   "source": [
    "# save the model to a file\n",
    "joblib.dump(gbrtuneD, 'gradientboosttuned.joblib')"
   ]
  },
  {
   "cell_type": "code",
   "execution_count": 125,
   "metadata": {},
   "outputs": [],
   "source": [
    "gbrtuneD=joblib.load('gradientboosttuned.joblib')"
   ]
  },
  {
   "cell_type": "code",
   "execution_count": 130,
   "metadata": {},
   "outputs": [
    {
     "data": {
      "text/plain": [
       "array([10419.41291865,  6277.49749368, 27743.39203956, 10201.23822489,\n",
       "       33526.0953606 ,  5571.00133014,  2768.88115955, 15075.63054581,\n",
       "        5009.98918694, 10943.8101756 , 19338.6561337 ,  7929.57495586,\n",
       "        5010.36834798, 43366.756621  , 46739.30756526, 43255.96453973,\n",
       "       10985.11474786, 43922.98488942, 10055.72015195, 24905.78475901,\n",
       "        5548.58926538,  9061.19554451,  2716.04613254,  4303.43663606,\n",
       "       12399.08882893, 12729.37874031, 15258.4819593 ,  6905.65216524,\n",
       "       11901.77154511,  3228.35253364,  7660.32384953, 12258.13584489,\n",
       "        3428.05106273,  6615.52765347,  5026.82897489, 10529.43389753,\n",
       "        4296.89841689,  8609.7457052 , 26406.93539578, 39132.8814767 ,\n",
       "        5432.28210897,  5406.67603119, 13195.36127202, 13454.98291898,\n",
       "        7407.13135821, 14840.8044049 ,  6919.40214797,  6693.15476058,\n",
       "       42089.53677273,  6778.42515659, 14743.89412365,  3629.49990342,\n",
       "        7197.32352647,  2564.92452253, 12454.93699158, 12185.74594498,\n",
       "        4562.21683904, 39150.43287804, 12481.25951312, 12627.63780026,\n",
       "       14575.64457418,  6358.91816413, 17146.25798604,  8778.69484113,\n",
       "       11691.63238803,  6118.35747824, 18616.61295724, 12400.42366712,\n",
       "        5863.71087418,  3252.04241736, 10055.36261351, 10823.52571086,\n",
       "       10795.5595343 ,  7870.44313387,  9798.62856257,  5893.17825287,\n",
       "        8021.71989716, 12526.73341133,  6605.09961459,  9180.51735395,\n",
       "        3873.60372591, 27629.92119739,  6777.77825921, 37647.31235922,\n",
       "       38445.99265141, 41936.93834198,  6223.50052347, 12341.15775215,\n",
       "        9463.12032403, 13696.4396567 , 19384.4797197 , 27058.13157655,\n",
       "       24652.47229203,  6987.36862615, 40738.01755435,  7273.27346593,\n",
       "       20396.95310412,  3919.0419961 , 19006.75646037,  7957.32924817,\n",
       "        5925.94371695,  2969.62823594,  6628.07837324, 14197.96186484,\n",
       "       13628.13021499,  4040.66877732,  9543.26489637, 23836.06063722,\n",
       "        2325.58083331, 24768.02154238,  3085.58664546,  4890.87818693,\n",
       "       13816.78158211, 38257.99048418, 11977.95499475,  4595.83941144,\n",
       "       12911.64405634, 23309.1371966 ,  7499.32287789,  5995.58316443,\n",
       "        7954.41462493,  8469.35313878, 15459.33518789,  4956.99066443,\n",
       "        6949.51620841,  8062.33716156,  9838.29425862, 11289.07019893,\n",
       "       15236.85082251,  4461.70491206,  4142.69440898,  7377.26893844,\n",
       "        7639.1949283 , 11108.45904084,  6569.64447328, 17147.56201119,\n",
       "        6679.38946551, 33514.46404195, 45766.45961624, 37242.29894272,\n",
       "        5671.79050056, 11672.67467732,  4897.50870013, 14525.86604541,\n",
       "        3939.71448189, 24084.32480266,  6884.81404585,  4351.4576317 ,\n",
       "       14238.02073661,  5406.28464881, 46104.5068219 ,  5433.00068899,\n",
       "        2176.07991355, 37564.53858273,  7176.66418385,  6659.13047799,\n",
       "       13971.575975  , 10712.37415121, 34227.80779304, 37754.93400756,\n",
       "       14855.70291819,  4455.86093086, 16798.88623152,  5418.20033361,\n",
       "        6526.03962136,  8530.5464378 , 46203.57155407, 42556.28353563,\n",
       "       42131.17211143,  4469.01056948, 10174.78872016,  6369.59377257,\n",
       "        9028.34713717,  5545.94924459,  3594.37827106, 25901.94674826,\n",
       "       17817.92385472, 13795.22827688, 18032.29632391, 12185.78675397,\n",
       "       27019.27510099,  4469.98861685,  9728.7168987 ,  5498.48812889,\n",
       "        6427.76371912,  5337.21337089,  8071.02521246,  4876.42038749,\n",
       "        9995.93764148, 12075.72750503,  6132.57604838,  3618.27206945,\n",
       "        3861.10438087, 40048.41957917, 13978.89360164, 10781.1816528 ,\n",
       "        4761.53340065, 13247.12727415,  3276.34191051, 11235.05725351,\n",
       "        4818.74731635, 27230.25868858,  6315.86606703,  5180.7013265 ,\n",
       "       19280.6017053 , 19613.09512964, 11146.23028859,  5563.89166514,\n",
       "       10287.15239904,  4865.97805274, 12866.18961008, 12762.08824714,\n",
       "       12796.71039545, 19991.67848715,  7714.12385586,  5310.03837884,\n",
       "        5872.33054373, 15525.88748594, 14772.67137659,  6047.17457662,\n",
       "        3818.53015509,  9696.05796154,  8098.43289083, 43103.43150957,\n",
       "        4027.46820115, 36443.17597125,  1924.01347312,  3486.01584439,\n",
       "       10678.53420594, 13988.92104329,  3407.13447164, 10554.46787815,\n",
       "        6455.06062116, 25444.50523566, 10635.03566738, 10992.61770689,\n",
       "        6689.55408664,  6783.58735177, 41359.07785352,  3905.19978966,\n",
       "       13443.54914778, 38969.71978506,  4857.96921557,  5580.78243941,\n",
       "        2455.42416956,  4920.43987297,  6337.02279521,  4835.73296037,\n",
       "       14157.57815443,  2100.89239192,  3906.08601026,  8418.00013598,\n",
       "        4459.70738018, 11786.52042798,  4928.58284747,  5316.80184412,\n",
       "       13443.92570009,  6275.64814709, 10102.33464093,  8133.88182537,\n",
       "        7612.73552556, 13537.50070757, 20352.91521371, 46261.98790662,\n",
       "       12414.81967471,  6930.82854573, 45222.09373013, 10781.16735913,\n",
       "        8864.53931301, 12058.77838712, 11639.91752005,  9315.36787443,\n",
       "       12160.68538   , 13695.44024778,  3498.23701826, 15179.56850204,\n",
       "        9457.20683619, 38007.03193251,  6843.38884744, 11402.40808468,\n",
       "       10747.4397046 , 15234.57590397, 10134.981133  , 10809.4463046 ,\n",
       "       38473.97885415,  4416.10904289, 11487.02113138, 45920.96988851,\n",
       "        6307.93373105,  5434.63056179,  4251.76164568, 11846.72241849,\n",
       "       16505.59081014, 14875.56461924, 10361.37410123, 12006.18900198,\n",
       "       11446.09308295,  4903.92964951,  3606.83404779, 37758.67012074,\n",
       "       37398.47663242,  8189.78157025,  5996.66561744, 18247.64766712,\n",
       "       15720.88858097, 38810.76190564,  4629.21434583, 45854.23685253,\n",
       "        7171.61553008,  2740.03687837,  6878.55804784,  4465.77766457,\n",
       "       18633.75391711, 14734.8638505 ,  3199.35516656, 13389.72307994,\n",
       "       12313.46110464, 13706.6659348 , 39951.90577311, 13834.44817432,\n",
       "       26237.38417025,  7392.49093912, 15865.08953202,  5027.62041006,\n",
       "       10079.73063649,  8761.22641711, 16675.30852078, 11322.51423362,\n",
       "        5656.86805519, 11416.61568775, 14081.92555796, 13837.12700445,\n",
       "        5773.43519622, 35474.2672497 ,  7013.37247627,  5009.26022395,\n",
       "        6397.0785832 ,  9653.90982459, 44012.17924655,  9423.82696191,\n",
       "       14527.58876584,  7596.87431648,  7149.58904119,  6136.71626402,\n",
       "        4690.6984113 ,  9293.04181451,  6307.27050068,  3214.11469432,\n",
       "       12459.66163768,  9866.20144979,  6086.23459723,  4563.13314276,\n",
       "       11560.34209691,  4636.18038807, 39001.40365843, 35951.7293001 ,\n",
       "       44823.36037379,  4733.96249817, 10162.14122754,  6514.53608203,\n",
       "        3579.88517458, 23956.37790374,  7096.05825253, 19231.50086427,\n",
       "       44015.66781653,  6194.22327041, 14512.42475513,  8140.14461845,\n",
       "       10672.53085886, 12160.72447955, 22075.77692083, 12193.6615079 ,\n",
       "        8272.97561569,  5960.2895674 ,  3351.60331401, 12019.67275658,\n",
       "       20971.77390808, 12694.70052117, 10119.71273146,  4584.82207187,\n",
       "        6394.04451298,  7714.53590608, 10702.89593107,  8980.93739873,\n",
       "       26745.09259433, 46828.68567264, 12234.58099639,  9055.1501862 ,\n",
       "       14716.79553959, 15287.79223148,  7819.6442091 ,  4057.0643922 ,\n",
       "        7615.49472547,  5111.55523323, 10083.49621263,  5445.97034023,\n",
       "       12686.96990377, 12306.10380547,  6229.2837686 ,  3827.36827576,\n",
       "       12945.38337931,  3364.09239372])"
      ]
     },
     "execution_count": 130,
     "metadata": {},
     "output_type": "execute_result"
    }
   ],
   "source": [
    "prediction=gbrtuneD.predict(X_test)\n",
    "prediction"
   ]
  },
  {
   "cell_type": "code",
   "execution_count": null,
   "metadata": {},
   "outputs": [],
   "source": []
  }
 ],
 "metadata": {
  "kernelspec": {
   "display_name": "base",
   "language": "python",
   "name": "python3"
  },
  "language_info": {
   "codemirror_mode": {
    "name": "ipython",
    "version": 3
   },
   "file_extension": ".py",
   "mimetype": "text/x-python",
   "name": "python",
   "nbconvert_exporter": "python",
   "pygments_lexer": "ipython3",
   "version": "3.9.13"
  },
  "orig_nbformat": 4
 },
 "nbformat": 4,
 "nbformat_minor": 2
}
